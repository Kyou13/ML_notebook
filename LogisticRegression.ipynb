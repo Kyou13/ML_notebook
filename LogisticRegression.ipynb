{
 "cells": [
  {
   "cell_type": "markdown",
   "metadata": {},
   "source": [
    "# Pythonを使ったロジスティック回帰の実装\n",
    "---"
   ]
  },
  {
   "cell_type": "markdown",
   "metadata": {},
   "source": [
    "### 目的関数と最適化手法\n",
    "- 目的関数：達成したい目的を表した関数。\n",
    "- 最適化手法：目的を達成するための方法。  \n",
    "\n",
    "２つの問題に分けるとアルゴリズムが考えやすが、  \n",
    "必ずしも２つに分解しなければならないわけではない。\n",
    "\n",
    "#### オンライン学習\n",
    "オンライン学習とは、データを与えられるたびに逐次的に学習を行うこと。  \n",
    "データは１つずつ与え、N回で終了するのではなく、何度も繰り返しデータを与える。\n",
    "\n",
    "### 確率的勾配降下法\n",
    "目的関数の最小化を目的とする場合に用いる勾配法（最適化手法）の一種。\n",
    "#### 1. 勾配法  \n",
    "パラメータ $w$ を引数としてとる目的関数 $L(w)$ の値を最小化するための手法。  \n",
    "すり鉢状の土地を下に向かって歩いていけば、最後には一番下にたどり着くというイメージ。\n",
    "#### 2. 勾配降下法  \n",
    "目的関数 $L(w)$ , $i$番目のデータを $(x^{(i)}, y^{(i)})$としたとき、次のように表す。\n",
    "\n",
    "$$ L\\,(w) = \\sum_i l\\,(x^{(i)}, y^{(i)}, w) $$\n",
    "\n",
    "分類に成功したら０、間違えたら分離超平面までの距離をその値とするような関数を考える。  \n",
    "\n",
    "$$ l(x^{(i)}, y^{(i)}, w) = max( -y^{(i)}w^Tx^{(i)}, 0 ) $$\n",
    "\n",
    "全て分類できれば $L(w)$ は０をとり、間違いが多くなるとその値が大きくなることになる。  \n",
    "また、目的関数が収束するまで、次式を用いてパラメータ更新を行う。\n",
    "\n",
    "$$ w^{(t+1)} = w^{t} - \\eta^{(t)}\\nabla L(w) $$\n",
    "\n",
    "収束の判定は、 目的関数の値の変化度合いがよく用いられる。  \n",
    "なんらかの正の実数$\\epsilon$を設定し、以下のように表せる。\n",
    "\n",
    "$$ |\\,L\\,(w^{(t+1)}- L\\,(w^{(t)})\\,| < \\epsilon $$\n",
    "\n",
    "#### 3. 確率的勾配降下法  \n",
    "勾配降下法の問題点は、  \n",
    "一度のパラメータ更新に、全てのデータを使って計算をし直すため、計算コストが高いこと。  \n",
    "そこで確率的勾配降下法では、**１つのデータを読み込んだら、そのデータのみを使って勾配を計算し、パラメータを更新する。**  \n",
    "パラメータ更新は、全てのデータに対して行う。また、パラメータ更新の式は以下のようになる。\n",
    "\n",
    "$$ w^{(t+1)} = w^{t} - \\eta^{(t)}\\nabla  l(x^{(t)}, y^{(t)}, w^{(t)}) $$\n",
    "\n",
    "勾配をより上手く近似する手法として、ミニバッチやモーメンタム法がある。"
   ]
  },
  {
   "cell_type": "markdown",
   "metadata": {},
   "source": [
    "### ロジスティック回帰\n",
    "ロジスティック回帰の特徴は、出力が確率の制約を満たすこと。（２つのクラスの出力の和が１なるということ）  \n",
    "ここでは、+1, -1に分類することを考える。  \n",
    "\n",
    "データ$x$のとき、出力が$y$である確率は以下のように表せる。\n",
    "$$ P(\\,y\\,|\\,x\\,) = \\frac{1}{1+\\exp(-yw^Tx)} = \\sigma(\\, yw^Tx \\,) $$\n",
    "$-yw^Tx$ が大きいほど、$y$ が１である確率が高くなる。  \n",
    "以上の式より、ロジスティック回帰の目的関数は次式となる。  \n",
    "\n",
    "$$ \\prod_{t=1,2,...}P(\\,y^{(t)}\\,|\\,x^{(t)}\\,) = \\prod_{t=1,2,...}\\sigma(\\, y^{(t)}w^Tx^{(t)} \\,) = \\prod_{t=1,2,...}\\frac{1}{1+\\exp(\\, y^{(t)}w^Tx^{(t)} \\,)} $$\n",
    "\n",
    "この式を**尤度**または**尤度関数**という。このままでは、$exp$の部分がオーバーフローする可能性がある。  \n",
    "そこで、この式の対数をとる。これを**対数尤度**という。\n",
    "\n",
    "$$ \\log\\prod_{t=1,2,...}\\sigma(\\, y^{(t)}w^Tx^{(t)} \\,) = \\sum_{t=1,2,...}\\log\\Bigr(\\frac{1}{1+\\exp(\\, y^{(t)}w^Tx^{(t)} \\,)}\\Bigr) $$\n",
    "\n",
    "対数を取ることで、右辺が $\\sum$ になったため確率的勾配降下法を用いることができる。\n",
    "\n",
    "#### ロジスティック回帰のパラメータ推定\n",
    "実際には、上記の式でパラメータ推定をすると数値的に不安定になる場合がある。  \n",
    "なので、目的関数にL1正則化もしくはL2正則化を付加したものがよく使われる。  \n",
    "\n",
    "また、最適化では最小化を目的とするので、式に$-1$をかけて符号を逆転させる。さらに、L2正則化をつけると、次のようになる。\n",
    "\n",
    "$$ min_w\\,L(\\,w\\,) = - \\sum_{t=1,2,...}\\log\\Bigr(\\frac{1}{1+\\exp(\\, -y^{(t)}w^Tx^{(t)} \\,)}\\Bigr) + C\\,||\\,w\\,||^2 $$\n",
    "\n",
    "目的関数 $l(w)$ を次のように定義する。\n",
    "\n",
    "$$ l(w) = -\\log\\Bigr(\\frac{1}{1+\\exp(\\, -y^{(t)}w^Tx^{(t)} \\,)}\\Bigr) $$\n",
    "\n",
    "$l(w)$ を$w$の$k$次元目となるような$w_k$で偏微分をし、標準シグモイド関数$\\sigma$を使って表すと\n",
    "\n",
    "$$ \\frac{\\sigma l(w)}{\\sigma w_k} = (1- \\sigma (yw^Tx))(-yx_k) $$\n",
    "\n",
    "これに正則化項を加えると、\n",
    "\n",
    "$$ (1- \\sigma (yw^Tx))(-yx_k) + 2C_W $$\n",
    "\n",
    "最終的には、以下の式を損失関数と定義し、最適化する。\n",
    "\n",
    "$$ -\\log\\Bigr(\\frac{1}{1+\\exp(\\, -y^{(t)}w^Tx^{(t)} \\,)}\\Bigr) $$\n",
    "\n",
    "ちなみに、SVMの場合は $ max(1 - y^{(t)}w^Tx^{(t)}, 0) $ を用いる。"
   ]
  },
  {
   "cell_type": "markdown",
   "metadata": {},
   "source": [
    "### 正則化について"
   ]
  },
  {
   "cell_type": "markdown",
   "metadata": {},
   "source": [
    "## ロジスティック回帰の実装\n",
    "---"
   ]
  },
  {
   "cell_type": "code",
   "execution_count": 1,
   "metadata": {
    "collapsed": true
   },
   "outputs": [],
   "source": [
    "class LogisticRegression():\n",
    "    \n",
    "    def __init__(self):\n",
    "        pass\n",
    "    \n",
    "    def fit(self, x, y):\n",
    "        pass\n",
    "    \n",
    "    def predict(self, x):\n",
    "        pass\n",
    "    \n",
    "    "
   ]
  },
  {
   "cell_type": "code",
   "execution_count": 5,
   "metadata": {
    "collapsed": true
   },
   "outputs": [],
   "source": [
    "import numpy as np\n",
    "\n",
    "%matplotlib inline\n",
    "import matplotlib.pyplot as plt"
   ]
  },
  {
   "cell_type": "code",
   "execution_count": 6,
   "metadata": {
    "collapsed": true
   },
   "outputs": [],
   "source": [
    "def plotData(data):\n",
    "    neg = data[:,2] == 0\n",
    "    pos = data[:,2] == 1\n",
    "\n",
    "    plt.scatter(data[pos][:,0], data[pos][:,1], marker='+', c='k', s=60, linewidth=2)\n",
    "    plt.scatter(data[neg][:,0], data[neg][:,1], c='y', s=60)\n",
    "    plt.xlabel('x')\n",
    "    plt.ylabel('y')\n",
    "    plt.legend(frameon= True, fancybox = True)\n",
    "    plt.show()"
   ]
  },
  {
   "cell_type": "code",
   "execution_count": 9,
   "metadata": {},
   "outputs": [
    {
     "name": "stderr",
     "output_type": "stream",
     "text": [
      "/Users/louis/.pyenv/versions/anaconda3-4.2.0/lib/python3.5/site-packages/matplotlib/axes/_axes.py:545: UserWarning: No labelled objects found. Use label='...' kwarg on individual plots.\n",
      "  warnings.warn(\"No labelled objects found. \"\n"
     ]
    },
    {
     "data": {
      "image/png": "[encoded data removed]",
      "text/plain": [
       "<matplotlib.figure.Figure at 0x10e061400>"
      ]
     },
     "metadata": {},
     "output_type": "display_data"
    }
   ],
   "source": [
    "originPoint = np.array([0, 0])\n",
    "data = np.array([[np.random.randint(100), np.random.randint(100), None] for _ in range(100)])\n",
    "threshold = 70\n",
    "label = np.array([int(threshold >= np.linalg.norm(d[:2]-originPoint)) for d in data])\n",
    "data[:, 2] = label\n",
    "\n",
    "plotData(data)"
   ]
  },
  {
   "cell_type": "code",
   "execution_count": 10,
   "metadata": {
    "collapsed": true
   },
   "outputs": [],
   "source": [
    "def sigmoid(z):\n",
    "    return(1 / (1 + np.exp(-z)))"
   ]
  },
  {
   "cell_type": "code",
   "execution_count": 11,
   "metadata": {
    "collapsed": true
   },
   "outputs": [],
   "source": [
    "def CostFunction(theta, X, y):\n",
    "    m = len(y)\n",
    "    h = sigmoid(X.dot(theta).astype(int))\n",
    "\n",
    "    j = -1*(1/m)*(np.log(h).T.dot(y)+np.log(1-h).T.dot(1-y))\n",
    "\n",
    "    return j"
   ]
  },
  {
   "cell_type": "code",
   "execution_count": 12,
   "metadata": {},
   "outputs": [
    {
     "name": "stdout",
     "output_type": "stream",
     "text": [
      "[0.6931471805599452]\n"
     ]
    }
   ],
   "source": [
    "X = np.c_[np.ones((data.shape[0],1)), data[:,0:2]]\n",
    "y = np.c_[data[:,2]]\n",
    "\n",
    "initial_theta = np.zeros(X.shape[1])\n",
    "cost = CostFunction(initial_theta, X, y)\n",
    "print (cost)"
   ]
  },
  {
   "cell_type": "code",
   "execution_count": 13,
   "metadata": {},
   "outputs": [
    {
     "name": "stdout",
     "output_type": "stream",
     "text": [
      "[[5.070004509250956]\n",
      " [-0.0661243842006846]\n",
      " [-0.07230636930084341]]\n"
     ]
    },
    {
     "data": {
      "image/png": "[encoded data removed]",
      "text/plain": [
       "<matplotlib.figure.Figure at 0x10e1c9898>"
      ]
     },
     "metadata": {},
     "output_type": "display_data"
    }
   ],
   "source": [
    "def gradient_decent (theta, X, y, alpha=0.001, num_iters=100000):\n",
    "    m = len(y)\n",
    "    history = np.zeros(num_iters)\n",
    "\n",
    "    for inter in np.arange(num_iters):\n",
    "        h = sigmoid(X.dot(theta).astype(int))\n",
    "        theta = theta - alpha *(1/m)*(X.T.dot(h-y))\n",
    "        history[inter] = CostFunction(theta,X,y)\n",
    "        \n",
    "    return (theta, history)\n",
    "\n",
    "initial_theta = np.zeros(X.shape[1])\n",
    "theta = initial_theta.reshape(-1,1)\n",
    "cost = CostFunction(initial_theta,X,y)\n",
    "theta, Cost_h= gradient_decent(theta, X, y)\n",
    "\n",
    "print(theta)\n",
    "plt.plot(Cost_h)\n",
    "plt.ylabel('Cost_h')\n",
    "plt.xlabel('interation')\n",
    "plt.show()"
   ]
  },
  {
   "cell_type": "code",
   "execution_count": 14,
   "metadata": {},
   "outputs": [
    {
     "name": "stdout",
     "output_type": "stream",
     "text": [
      "92.0\n"
     ]
    }
   ],
   "source": [
    "def predict(theta, X, threshold = 0.5):\n",
    "    p = sigmoid(X.dot(theta).astype(int)) >= threshold\n",
    "\n",
    "    return(p.astype('int'))\n",
    "\n",
    "p = predict(theta,X)\n",
    "y = y.astype('int')\n",
    "\n",
    "accuracy_cnt = 0\n",
    "for i in range(len(y)):\n",
    "    if p[i,0] == y[i,0]:\n",
    "        accuracy_cnt +=1\n",
    "\n",
    "print(accuracy_cnt/len(y) * 100)"
   ]
  },
  {
   "cell_type": "code",
   "execution_count": null,
   "metadata": {
    "collapsed": true
   },
   "outputs": [],
   "source": []
  },
  {
   "cell_type": "code",
   "execution_count": null,
   "metadata": {
    "collapsed": true
   },
   "outputs": [],
   "source": []
  },
  {
   "cell_type": "code",
   "execution_count": null,
   "metadata": {
    "collapsed": true
   },
   "outputs": [],
   "source": []
  },
  {
   "cell_type": "code",
   "execution_count": null,
   "metadata": {
    "collapsed": true
   },
   "outputs": [],
   "source": []
  },
  {
   "cell_type": "code",
   "execution_count": null,
   "metadata": {
    "collapsed": true
   },
   "outputs": [],
   "source": []
  },
  {
   "cell_type": "code",
   "execution_count": null,
   "metadata": {
    "collapsed": true
   },
   "outputs": [],
   "source": [
    "from sklearn import datasets\n",
    "boston = datasets.load_boston()"
   ]
  }
 ],
 "metadata": {
  "kernelspec": {
   "display_name": "Python [default]",
   "language": "python",
   "name": "python3"
  },
  "language_info": {
   "codemirror_mode": {
    "name": "ipython",
    "version": 3
   },
   "file_extension": ".py",
   "mimetype": "text/x-python",
   "name": "python",
   "nbconvert_exporter": "python",
   "pygments_lexer": "ipython3",
   "version": "3.5.3"
  }
 },
 "nbformat": 4,
 "nbformat_minor": 2
}
