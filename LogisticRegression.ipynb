{
 "cells": [
  {
   "cell_type": "markdown",
   "metadata": {},
   "source": [
    "# Pythonを使ったロジスティック回帰の実装\n",
    "---"
   ]
  },
  {
   "cell_type": "markdown",
   "metadata": {},
   "source": [
    "### 目的関数と最適化手法\n",
    "- 目的関数：達成したい目的を表した関数。\n",
    "- 最適化手法：目的を達成するための方法。  \n",
    "\n",
    "２つの問題に分けるとアルゴリズムが考えやすが、  \n",
    "必ずしも２つに分解しなければならないわけではない。\n",
    "\n",
    "#### オンライン学習\n",
    "オンライン学習とは、データを与えられるたびに逐次的に学習を行うこと。  \n",
    "データは１つずつ与え、N回で終了するのではなく、何度も繰り返しデータを与える。\n",
    "\n",
    "### 確率的勾配降下法\n",
    "目的関数の最小化を目的とする場合に用いる勾配法（最適化手法）の一種。\n",
    "#### 1. 勾配法  \n",
    "パラメータ $w$ を引数としてとる目的関数 $L(w)$ の値を最小化するための手法。  \n",
    "すり鉢状の土地を下に向かって歩いていけば、最後には一番下にたどり着くというイメージ。\n",
    "#### 2. 勾配降下法  \n",
    "目的関数 $L(w)$ , $i$番目のデータを $(x^{(i)}, y^{(i)})$としたとき、次のように表す。\n",
    "\n",
    "$$ L\\,(w) = \\sum_i l\\,(x^{(i)}, y^{(i)}, w) $$\n",
    "\n",
    "分類に成功したら０、間違えたら分離超平面までの距離をその値とするような関数を考える。  \n",
    "\n",
    "$$ l(x^{(i)}, y^{(i)}, w) = max( -y^{(i)}w^Tx^{(i)}, 0 ) $$\n",
    "\n",
    "全て分類できれば $L(w)$ は０をとり、間違いが多くなるとその値が大きくなることになる。  \n",
    "また、目的関数が収束するまで、次式を用いてパラメータ更新を行う。\n",
    "\n",
    "$$ w^{(t+1)} = w^{t} - \\eta^{(t)}\\nabla L(w) $$\n",
    "\n",
    "収束の判定は、 目的関数の値の変化度合いがよく用いられる。  \n",
    "なんらかの正の実数$\\epsilon$を設定し、以下のように表せる。\n",
    "\n",
    "$$ |\\,L\\,(w^{(t+1)}- L\\,(w^{(t)})\\,| < \\epsilon $$\n",
    "\n",
    "#### 3. 確率的勾配降下法  \n",
    "勾配降下法の問題点は、  \n",
    "一度のパラメータ更新に、全てのデータを使って計算をし直すため、計算コストが高いこと。  \n",
    "そこで確率的勾配降下法では、**１つのデータを読み込んだら、そのデータのみを使って勾配を計算し、パラメータを更新する。**  \n",
    "パラメータ更新は、全てのデータに対して行う。また、パラメータ更新の式は以下のようになる。\n",
    "\n",
    "$$ w^{(t+1)} = w^{t} - \\eta^{(t)}\\nabla  l(x^{(t)}, y^{(t)}, w^{(t)}) $$\n",
    "\n",
    "勾配をより上手く近似する手法として、ミニバッチやモーメンタム法がある。\n",
    "\n",
    "### 正則化について\n",
    "正則化には、過学習を防ぐ効果がある。  \n",
    "今まで、損失項と正則化項の和を目的関数とし、最小化をしてきた。\n",
    "- L1正則化　特定のデータの重みを0にする事で、不要なデータを削除する\n",
    "- L2正則化　データの大きさに応じて0に近づけて、滑らかなモデルとする"
   ]
  },
  {
   "cell_type": "markdown",
   "metadata": {},
   "source": [
    "### ロジスティック回帰\n",
    "ロジスティック回帰の特徴は、出力が確率の制約を満たすこと。（２つのクラスの出力の和が１なるということ）  \n",
    "ここでは、+1, -1に分類することを考える。  \n",
    "\n",
    "データ$x$のとき、出力が$y$である確率は以下のように表せる。\n",
    "$$ P(\\,y\\,|\\,x\\,) = \\frac{1}{1+\\exp(-yw^Tx)} = \\sigma(\\, yw^Tx \\,) $$\n",
    "$-yw^Tx$ が大きいほど、$y$ が１である確率が高くなる。  \n",
    "以上の式より、ロジスティック回帰の目的関数は次式となる。  \n",
    "\n",
    "$$ \\prod_{t=1,2,...}P(\\,y^{(t)}\\,|\\,x^{(t)}\\,) = \\prod_{t=1,2,...}\\sigma(\\, y^{(t)}w^Tx^{(t)} \\,) = \\prod_{t=1,2,...}\\frac{1}{1+\\exp(\\, y^{(t)}w^Tx^{(t)} \\,)} $$\n",
    "\n",
    "この式を**尤度**または**尤度関数**という。このままでは、$exp$の部分がオーバーフローする可能性がある。  \n",
    "そこで、この式の対数をとる。これを**対数尤度**という。\n",
    "\n",
    "$$ \\log\\prod_{t=1,2,...}\\sigma(\\, y^{(t)}w^Tx^{(t)} \\,) = \\sum_{t=1,2,...}\\log\\Bigr(\\frac{1}{1+\\exp(\\, y^{(t)}w^Tx^{(t)} \\,)}\\Bigr) $$\n",
    "\n",
    "対数を取ることで、右辺が $\\sum$ になったため確率的勾配降下法を用いることができる。\n",
    "\n",
    "#### ロジスティック回帰のパラメータ推定\n",
    "実際には、上記の式でパラメータ推定をすると数値的に不安定になる場合がある。  \n",
    "なので、目的関数にL1正則化もしくはL2正則化を付加したものがよく使われる。  \n",
    "\n",
    "また、最適化では最小化を目的とするので、式に$-1$をかけて符号を逆転させる。さらに、L2正則化をつけると、次のようになる。\n",
    "\n",
    "$$ min_w\\,L(\\,w\\,) = - \\sum_{t=1,2,...}\\log\\Bigr(\\frac{1}{1+\\exp(\\, -y^{(t)}w^Tx^{(t)} \\,)}\\Bigr) + C\\,||\\,w\\,||^2 $$\n",
    "\n",
    "目的関数 $l(w)$ を次のように定義する。\n",
    "\n",
    "$$ l(w) = -\\log\\Bigr(\\frac{1}{1+\\exp(\\, -y^{(t)}w^Tx^{(t)} \\,)}\\Bigr) $$\n",
    "\n",
    "$l(w)$ を$w$の$k$次元目となるような$w_k$で偏微分をし、標準シグモイド関数$\\sigma$を使って表すと\n",
    "\n",
    "$$ \\frac{\\sigma l(w)}{\\sigma w_k} = (1- \\sigma (yw^Tx))(-yx_k) $$\n",
    "\n",
    "これに正則化項を加えると、\n",
    "\n",
    "$$ (1- \\sigma (yw^Tx))(-yx_k) + 2C_W $$\n",
    "\n",
    "最終的には、以下の式を損失関数と定義し、最適化する。\n",
    "\n",
    "$$ -\\log\\Bigr(\\frac{1}{1+\\exp(\\, -y^{(t)}w^Tx^{(t)} \\,)}\\Bigr) $$\n",
    "\n",
    "ちなみに、SVMの場合は $ max(1 - y^{(t)}w^Tx^{(t)}, 0) $  を用いる。  \n",
    "SVMに使われているヒンジ損失は、重みを０にできるから多次元のデータのにも強い？\n",
    "\n",
    "![損失関数のグラフ](./data/images/loss_fanc.png)"
   ]
  },
  {
   "cell_type": "markdown",
   "metadata": {},
   "source": [
    "## ロジスティック回帰の実装\n",
    "---"
   ]
  },
  {
   "cell_type": "markdown",
   "metadata": {},
   "source": [
    "- 確率的勾配法の実装"
   ]
  },
  {
   "cell_type": "code",
   "execution_count": 1,
   "metadata": {
    "collapsed": true
   },
   "outputs": [],
   "source": [
    "import time\n",
    "import numpy as np\n",
    "\n",
    "%matplotlib inline\n",
    "import matplotlib.pyplot as plt"
   ]
  },
  {
   "cell_type": "markdown",
   "metadata": {},
   "source": [
    "### 勾配降下法\n",
    "---\n",
    "- 計算量が多い。今回はデータが100行しかないため、計算が終わっているだけ。"
   ]
  },
  {
   "cell_type": "code",
   "execution_count": 10,
   "metadata": {
    "collapsed": true
   },
   "outputs": [],
   "source": [
    "def sigmoid(t):\n",
    "    return( 1 / (1 + np.exp( -t )) )"
   ]
  },
  {
   "cell_type": "code",
   "execution_count": 11,
   "metadata": {
    "collapsed": true
   },
   "outputs": [],
   "source": [
    "def CostFunction(W, X, y):\n",
    "    m = len(y)\n",
    "    h = sigmoid(X.dot(W).astype(int))\n",
    "    j = -1*(1/m)*(np.log(h).T.dot(y)+np.log(1-h).T.dot(1-y))\n",
    "    return j"
   ]
  },
  {
   "cell_type": "code",
   "execution_count": 12,
   "metadata": {},
   "outputs": [
    {
     "data": {
      "text/plain": [
       "array([0.6931471805599447], dtype=object)"
      ]
     },
     "execution_count": 12,
     "metadata": {},
     "output_type": "execute_result"
    }
   ],
   "source": [
    "X = np.c_[np.ones((data.shape[0],1)), data[:, :2]]\n",
    "y = np.c_[data[:,2]]\n",
    "\n",
    "initial_theta = np.zeros(X.shape[1])\n",
    "CostFunction(initial_theta, X, y)"
   ]
  },
  {
   "cell_type": "code",
   "execution_count": 13,
   "metadata": {},
   "outputs": [],
   "source": [
    "def gradient_decent (theta, X, y, alpha = 0.001, num_iters = 100000):\n",
    "    m = len(y)\n",
    "    history = np.zeros(num_iters)\n",
    "\n",
    "    for inter in np.arange(num_iters):\n",
    "        h = sigmoid(X.dot(theta).astype(int))\n",
    "        theta = theta - alpha *(1/m)*(X.T.dot(h-y))\n",
    "        history[inter] = CostFunction(theta,X,y)\n",
    "\n",
    "    return(theta, history)"
   ]
  },
  {
   "cell_type": "code",
   "execution_count": 14,
   "metadata": {},
   "outputs": [
    {
     "name": "stdout",
     "output_type": "stream",
     "text": [
      "elapsed_time:12.629857063293457[sec]\n"
     ]
    }
   ],
   "source": [
    "start = time.time()\n",
    "\n",
    "initial_theta = np.zeros(X.shape[1])\n",
    "theta = initial_theta.reshape(-1,1)\n",
    "cost = CostFunction(initial_theta, X, y)\n",
    "theta, Cost_h= gradient_decent(theta, X, y)\n",
    "\n",
    "elapsed_time = time.time() - start\n",
    "print (\"elapsed_time:{0}\".format(elapsed_time) + \"[sec]\")"
   ]
  },
  {
   "cell_type": "code",
   "execution_count": 15,
   "metadata": {},
   "outputs": [
    {
     "name": "stdout",
     "output_type": "stream",
     "text": [
      "[[6.330158199392715]\n",
      " [-0.06546752353871785]\n",
      " [-0.08626566547974976]]\n"
     ]
    },
    {
     "data": {
      "image/png": "[encoded data removed]",
      "text/plain": [
       "<matplotlib.figure.Figure at 0x1065e69b0>"
      ]
     },
     "metadata": {},
     "output_type": "display_data"
    }
   ],
   "source": [
    "print(theta)\n",
    "plt.plot(Cost_h)\n",
    "plt.ylabel('Cost_h')\n",
    "plt.xlabel('interation')\n",
    "plt.show()"
   ]
  },
  {
   "cell_type": "code",
   "execution_count": 16,
   "metadata": {},
   "outputs": [
    {
     "name": "stdout",
     "output_type": "stream",
     "text": [
      "97.0\n"
     ]
    }
   ],
   "source": [
    "def predict(theta, X, threshold = 0.5):\n",
    "    p = sigmoid(X.dot(theta).astype(int)) >= threshold\n",
    "    return(p.astype('int'))\n",
    "\n",
    "p = predict(theta,X)\n",
    "y = y.astype('int')\n",
    "\n",
    "accuracy_cnt = 0\n",
    "for i in range(len(y)):\n",
    "    if p[i,0] == y[i,0]:\n",
    "        accuracy_cnt +=1\n",
    "\n",
    "print(accuracy_cnt/len(y) * 100)"
   ]
  },
  {
   "cell_type": "markdown",
   "metadata": {
    "collapsed": true
   },
   "source": [
    "### 確率的勾配降下法(Stochastic Gradient Descent, SGD)\n",
    "---\n",
    "- 勾配降下法に比べて、損失の上下が激しくなる。(グラフは取得する損失の数を少なくしている。)\n",
    "- 計算時間は勾配降下法に比べ、約1/6になっている"
   ]
  },
  {
   "cell_type": "code",
   "execution_count": 118,
   "metadata": {},
   "outputs": [],
   "source": [
    "def sigmoid(z):\n",
    "    return( 1 / (1 + np.exp( -z )) )"
   ]
  },
  {
   "cell_type": "code",
   "execution_count": 119,
   "metadata": {
    "collapsed": true
   },
   "outputs": [],
   "source": [
    "def CostFunction(W, X, y):\n",
    "    h = sigmoid(X.dot(W))\n",
    "    j = -1*(np.log(h)*(y)+np.log(1-h)*(1-y))\n",
    "    return j"
   ]
  },
  {
   "cell_type": "code",
   "execution_count": 120,
   "metadata": {},
   "outputs": [
    {
     "data": {
      "text/plain": [
       "array([0.6931471805599453], dtype=object)"
      ]
     },
     "execution_count": 120,
     "metadata": {},
     "output_type": "execute_result"
    }
   ],
   "source": [
    "X = np.c_[np.ones((data.shape[0],1)), data[:, :2]]\n",
    "y = np.c_[data[:,2]]\n",
    "\n",
    "initial_theta = np.zeros(X.shape[1])\n",
    "CostFunction(initial_theta, X[0], y[0])"
   ]
  },
  {
   "cell_type": "code",
   "execution_count": 121,
   "metadata": {},
   "outputs": [],
   "source": [
    "def gradient_decent(W, X, y, lr = 0.001, num_iters=100000):\n",
    "    history = np.array([])\n",
    "    data_size = len(y)\n",
    "    \n",
    "    for t in range(num_iters):\n",
    "        i = t%data_size\n",
    "        h = sigmoid(X[i].dot(W))\n",
    "        W = W - lr *np.array(X[i] * (h-y[i]))\n",
    "        if i==0:\n",
    "            history = np.append(history, CostFunction(W, X[i], y[i]))\n",
    "    return (W, history)"
   ]
  },
  {
   "cell_type": "code",
   "execution_count": 124,
   "metadata": {},
   "outputs": [
    {
     "name": "stdout",
     "output_type": "stream",
     "text": [
      "elapsed_time:1.6756980419158936[sec]\n"
     ]
    }
   ],
   "source": [
    "# %%timeit\n",
    "start = time.time()\n",
    "\n",
    "initial_theta = np.zeros(X.shape[1])\n",
    "W, Cost_h= gradient_decent(initial_theta, X, y)\n",
    "\n",
    "elapsed_time = time.time() - start\n",
    "print (\"elapsed_time:{0}\".format(elapsed_time) + \"[sec]\")"
   ]
  },
  {
   "cell_type": "code",
   "execution_count": 125,
   "metadata": {},
   "outputs": [
    {
     "name": "stdout",
     "output_type": "stream",
     "text": [
      "[6.539930666067905 -0.12007393707316061 -0.1038243109711039]\n"
     ]
    },
    {
     "data": {
      "image/png": "[encoded data removed]",
      "text/plain": [
       "<matplotlib.figure.Figure at 0x106e9ec88>"
      ]
     },
     "metadata": {},
     "output_type": "display_data"
    }
   ],
   "source": [
    "print(W)\n",
    "plt.plot(Cost_h)\n",
    "plt.ylabel('Cost_h')\n",
    "plt.xlabel('interation')\n",
    "plt.show()"
   ]
  },
  {
   "cell_type": "code",
   "execution_count": 126,
   "metadata": {},
   "outputs": [
    {
     "name": "stdout",
     "output_type": "stream",
     "text": [
      "[0.86]\n"
     ]
    }
   ],
   "source": [
    "def predict(W, X, threshold = 0.5):\n",
    "    p = sigmoid(X.dot(W).astype(int)) >= threshold\n",
    "    return(p.astype('int'))\n",
    "\n",
    "p = predict(W, X)\n",
    "y = y.astype('int')\n",
    "\n",
    "accuracy_cnt = [(p[i] == y[i]) for i in range(100)]\n",
    "print( sum(accuracy_cnt)/len(y) )"
   ]
  },
  {
   "cell_type": "markdown",
   "metadata": {},
   "source": [
    "### 確率的勾配降下法 + ミニバッチ\n",
    "---"
   ]
  },
  {
   "cell_type": "code",
   "execution_count": 155,
   "metadata": {
    "collapsed": true
   },
   "outputs": [],
   "source": [
    "def sigmoid(z):\n",
    "    return( 1 / (1 + np.exp( -z )) )\n",
    "\n",
    "def CostFunction(W, X, y):\n",
    "    m = len(y)\n",
    "    h = sigmoid(X.dot(W).astype(int))\n",
    "    j = -1*(1/m)*(np.log(h).T.dot(y)+np.log(1-h).T.dot(1-y))\n",
    "    return j"
   ]
  },
  {
   "cell_type": "code",
   "execution_count": 157,
   "metadata": {},
   "outputs": [
    {
     "data": {
      "text/plain": [
       "array([0., 0., 0.])"
      ]
     },
     "execution_count": 157,
     "metadata": {},
     "output_type": "execute_result"
    }
   ],
   "source": [
    "initial_theta"
   ]
  },
  {
   "cell_type": "code",
   "execution_count": 158,
   "metadata": {},
   "outputs": [
    {
     "data": {
      "text/plain": [
       "array([[1],\n",
       "       [1],\n",
       "       [1],\n",
       "       [1],\n",
       "       [0],\n",
       "       [1],\n",
       "       [0],\n",
       "       [0],\n",
       "       [0],\n",
       "       [1]], dtype=object)"
      ]
     },
     "execution_count": 158,
     "metadata": {},
     "output_type": "execute_result"
    }
   ],
   "source": [
    "y[:10]"
   ]
  },
  {
   "cell_type": "code",
   "execution_count": 186,
   "metadata": {},
   "outputs": [
    {
     "data": {
      "text/plain": [
       "array([[0.6931471805599453]], dtype=object)"
      ]
     },
     "execution_count": 186,
     "metadata": {},
     "output_type": "execute_result"
    }
   ],
   "source": [
    "X = np.c_[np.ones((data.shape[0],1)), data[:, :2]]\n",
    "y = np.c_[data[:,2]]\n",
    "\n",
    "initial_theta = np.zeros(X.shape[1]).reshape(-1, 1)\n",
    "CostFunction(initial_theta, X[:10], y[:10])"
   ]
  },
  {
   "cell_type": "code",
   "execution_count": 187,
   "metadata": {},
   "outputs": [],
   "source": [
    "def gradient_decent(W, X, y, lr = 0.001, num_iters=1000000, num_batch=10):\n",
    "    history = np.array([])\n",
    "    data_size = len(y)\n",
    "    \n",
    "    for t in range(0, num_iters, num_batch):\n",
    "        i = t%data_size\n",
    "        h = sigmoid(X[i:i+num_batch].dot(W).astype(int))\n",
    "        W = W - lr *(1/num_batch)*np.array(X[i:i+num_batch].T.dot(h.reshape(-1, 1)-y[i:i+num_batch]))\n",
    "        if t%1000==0:\n",
    "            history = np.append(history, CostFunction(W, X[i:i+num_batch], y[i:i+num_batch]))\n",
    "    return (W, history)"
   ]
  },
  {
   "cell_type": "code",
   "execution_count": 188,
   "metadata": {},
   "outputs": [
    {
     "name": "stdout",
     "output_type": "stream",
     "text": [
      "elapsed_time:2.5612640380859375[sec]\n"
     ]
    }
   ],
   "source": [
    "start = time.time()\n",
    "\n",
    "initial_theta = np.zeros(X.shape[1]).reshape(-1, 1)\n",
    "W, Cost_h= gradient_decent(initial_theta, X, y)\n",
    "\n",
    "elapsed_time = time.time() - start\n",
    "print (\"elapsed_time:{0}\".format(elapsed_time) + \"[sec]\")"
   ]
  },
  {
   "cell_type": "code",
   "execution_count": 189,
   "metadata": {},
   "outputs": [
    {
     "name": "stdout",
     "output_type": "stream",
     "text": [
      "[[6.5068094159172505]\n",
      " [-0.07912238913229803]\n",
      " [-0.09249356934613702]]\n"
     ]
    },
    {
     "data": {
      "image/png": "[encoded data removed]",
      "text/plain": [
       "<matplotlib.figure.Figure at 0x106997518>"
      ]
     },
     "metadata": {},
     "output_type": "display_data"
    }
   ],
   "source": [
    "print(W)\n",
    "plt.plot(Cost_h)\n",
    "plt.ylabel('Cost_h')\n",
    "plt.xlabel('interation')\n",
    "plt.show()"
   ]
  },
  {
   "cell_type": "code",
   "execution_count": 190,
   "metadata": {},
   "outputs": [
    {
     "name": "stdout",
     "output_type": "stream",
     "text": [
      "[0.95]\n"
     ]
    }
   ],
   "source": [
    "def predict(W, X, threshold = 0.5):\n",
    "    p = sigmoid(X.dot(W).astype(int)) >= threshold\n",
    "    return(p.astype('int'))\n",
    "\n",
    "p = predict(W, X)\n",
    "y = y.astype('int')\n",
    "\n",
    "accuracy_cnt = [(p[i] == y[i]) for i in range(100)]\n",
    "print( sum(accuracy_cnt)/len(y) )"
   ]
  },
  {
   "cell_type": "code",
   "execution_count": null,
   "metadata": {
    "collapsed": true
   },
   "outputs": [],
   "source": []
  },
  {
   "cell_type": "markdown",
   "metadata": {},
   "source": [
    "## ロジスティック回帰の他クラス分類への応用\n",
    "---\n",
    "### 多クラス分類\n",
    "- １対他法  \n",
    "クラス数と同じ数の分類器を用意。\n",
    "- １対１法  \n",
    "全てのクラスの組み合わせの分類器を用意。全ての分類器で投票を行い、一番票の多いクラスに分類。  \n",
    "１対他法よりも少し精度が良いことが実験的に知られているが、クラス数の２乗に比例する計算時間がかかる欠点がある。\n",
    "- 誤り訂正出力符号法（ECOC法）  \n",
    "あらかじめ決められた数の分類器を用意。分類器の数を$n$、クラス数を$K$としたとき、以下のようなテーブルを得られる。 \n",
    "\n",
    "|  | $f_1$ | $f_2$ | $f_3$ |\n",
    "|:---:|:---:|:---:|:---:|\n",
    "|クラス1| 0 | 0 | 0 |\n",
    "|クラス2| 0 | 1 | 1 |\n",
    "|クラス3| 1 | 0 | 1 |\n",
    "|クラス4| 1 | 1 | 0 |\n",
    "\n",
    "各分類器で出力された値を並べたものを**コードワード**という。  \n",
    "このコードワードをつかって、ハミング距離が最も近いクラスに分類する。　　\n",
    "\n",
    "ハミング距離とは、桁数が同じ2つの2進数を比較して、異なっている桁の個数をいう。  \n",
    "\n",
    "ハミング距離が同じクラスがあるとき、理論的に最適な解決方法がないため、ランダムに分類を行う。\n",
    "\n",
    "---\n",
    "普通のロジスティック回帰クラスを継承して、分類器をいくつか用意し、  \n",
    "ハミング距離を計算する関数を作ればいけそう。"
   ]
  },
  {
   "cell_type": "markdown",
   "metadata": {},
   "source": [
    "# クラスにしてみる"
   ]
  },
  {
   "cell_type": "code",
   "execution_count": null,
   "metadata": {
    "collapsed": true
   },
   "outputs": [],
   "source": [
    "from sklearn import datasets\n",
    "boston = datasets.load_boston()"
   ]
  },
  {
   "cell_type": "code",
   "execution_count": 2,
   "metadata": {
    "collapsed": true,
    "scrolled": true
   },
   "outputs": [],
   "source": [
    "originPoint = np.array([0, 0])\n",
    "data = np.array([[np.random.randint(100), np.random.randint(100), None] for _ in range(100)])\n",
    "\n",
    "threshold = 70\n",
    "label = np.array([int(threshold >= np.linalg.norm(d[:2]-originPoint)) for d in data])\n",
    "data[:, 2] = label"
   ]
  },
  {
   "cell_type": "code",
   "execution_count": 3,
   "metadata": {},
   "outputs": [
    {
     "name": "stderr",
     "output_type": "stream",
     "text": [
      "/Users/louis/.pyenv/versions/anaconda3-4.2.0/lib/python3.5/site-packages/matplotlib/axes/_axes.py:545: UserWarning: No labelled objects found. Use label='...' kwarg on individual plots.\n",
      "  warnings.warn(\"No labelled objects found. \"\n"
     ]
    },
    {
     "data": {
      "image/png": "[encoded data removed]",
      "text/plain": [
       "<matplotlib.figure.Figure at 0x105ec4e10>"
      ]
     },
     "metadata": {},
     "output_type": "display_data"
    }
   ],
   "source": [
    "neg = data[:,2] == 0\n",
    "pos = data[:,2] == 1\n",
    "\n",
    "plt.scatter(data[pos][:,0], data[pos][:,1], marker='+', c='k', s=60, linewidth=2)\n",
    "plt.scatter(data[neg][:,0], data[neg][:,1], c='y', s=60)\n",
    "plt.xlabel('x')\n",
    "plt.ylabel('y')\n",
    "plt.legend(frameon= True, fancybox = True)\n",
    "plt.show()"
   ]
  },
  {
   "cell_type": "code",
   "execution_count": 4,
   "metadata": {},
   "outputs": [],
   "source": [
    "import numpy as np\n",
    "\n",
    "class LogisticRegression():\n",
    "    \n",
    "    def __init__(self):\n",
    "        self.init_state = True    # 重みの初期化判定フラグ\n",
    "        self.W = None                # 重み\n",
    "        self.history = None       # 損失の履歴\n",
    "    \n",
    "    def fit(self, x, y):\n",
    "        X = np.c_[np.ones((x.shape[0])), x]  # 切片の追加\n",
    "        y = y.flatten()\n",
    "        \n",
    "        n_sample, n_features = X.shape\n",
    "        \n",
    "        if self.init_state:\n",
    "            self.W = np.ones(n_features)  # 入力データの次元分重みを用意\n",
    "            self.init_state = False\n",
    "        \n",
    "        self.W, self.history= self.gradient_decent(self.W, X, y)\n",
    "    \n",
    "    \n",
    "    def predict(self, X, threshold = 0.5):\n",
    "        X = np.c_[np.ones((X.shape[0])), X]\n",
    "        p = self.sigmoid(X.dot(self.W).astype(int)) >= threshold\n",
    "        return(p.astype('int'))\n",
    "    \n",
    "    \n",
    "    def sigmoid(self, z):\n",
    "        return (1 / (1 + np.exp(-z)))\n",
    "    \n",
    "    \n",
    "    def CostFunction(self, W, X, y):\n",
    "        h = self.sigmoid(X.dot(W))\n",
    "        cost = -1*(np.log(h)*(y)+np.log(1-h)*(1-y))\n",
    "        return cost\n",
    "    \n",
    "                \n",
    "    def gradient_decent (self, W, X, y, lr=0.001, num_iters=100000):\n",
    "        history = np.array([])\n",
    "        data_size = len(y)\n",
    "\n",
    "        for t in range(num_iters):\n",
    "            i = t%data_size\n",
    "            h = self.sigmoid(X[i].dot(W))\n",
    "            W = W - lr *np.array(X[i] * (h-y[i]))\n",
    "            if i==0:\n",
    "                history = np.append(history, self.CostFunction(W, X[i], y[i]))\n",
    "        return (W, history)"
   ]
  },
  {
   "cell_type": "code",
   "execution_count": 5,
   "metadata": {
    "collapsed": true
   },
   "outputs": [],
   "source": [
    "# データの準備\n",
    "x = data[:, :2]\n",
    "y = data[:, 2]"
   ]
  },
  {
   "cell_type": "code",
   "execution_count": 6,
   "metadata": {},
   "outputs": [],
   "source": [
    "# モデルの定義\n",
    "clf = LogisticRegression()"
   ]
  },
  {
   "cell_type": "code",
   "execution_count": 7,
   "metadata": {
    "scrolled": false
   },
   "outputs": [
    {
     "name": "stderr",
     "output_type": "stream",
     "text": [
      "/Users/louis/.pyenv/versions/anaconda3-4.2.0/lib/python3.5/site-packages/ipykernel/__main__.py:36: RuntimeWarning: divide by zero encountered in log\n"
     ]
    }
   ],
   "source": [
    "# 学習\n",
    "clf.fit(x, y)"
   ]
  },
  {
   "cell_type": "code",
   "execution_count": 8,
   "metadata": {},
   "outputs": [
    {
     "name": "stdout",
     "output_type": "stream",
     "text": [
      "[6.3417590821018255 -0.08475429372751651 -0.10778910998543509]\n"
     ]
    },
    {
     "data": {
      "image/png": "[encoded data removed]",
      "text/plain": [
       "<matplotlib.figure.Figure at 0x104b36080>"
      ]
     },
     "metadata": {},
     "output_type": "display_data"
    }
   ],
   "source": [
    "print(clf.W)\n",
    "plt.plot(clf.history)\n",
    "plt.ylabel('Cost_h')\n",
    "plt.xlabel('interation')\n",
    "plt.show()"
   ]
  },
  {
   "cell_type": "code",
   "execution_count": 9,
   "metadata": {},
   "outputs": [
    {
     "data": {
      "text/plain": [
       "0.9"
      ]
     },
     "execution_count": 9,
     "metadata": {},
     "output_type": "execute_result"
    }
   ],
   "source": [
    "originPoint = np.array([0, 0])\n",
    "data = np.array([[np.random.randint(100), np.random.randint(100), None] for _ in range(100)])\n",
    "\n",
    "threshold = 70\n",
    "label = np.array([int(threshold >= np.linalg.norm(d[:2]-originPoint)) for d in data])\n",
    "data[:, 2] = label\n",
    "\n",
    "x = data[:, :2]\n",
    "y = data[:, 2]\n",
    "\n",
    "# 予測\n",
    "p = clf.predict(x)\n",
    "y = y.astype('int')\n",
    "\n",
    "sum(p == y) / len(y)"
   ]
  }
 ],
 "metadata": {
  "kernelspec": {
   "display_name": "Python [default]",
   "language": "python",
   "name": "python3"
  },
  "language_info": {
   "codemirror_mode": {
    "name": "ipython",
    "version": 3
   },
   "file_extension": ".py",
   "mimetype": "text/x-python",
   "name": "python",
   "nbconvert_exporter": "python",
   "pygments_lexer": "ipython3",
   "version": "3.5.3"
  }
 },
 "nbformat": 4,
 "nbformat_minor": 2
}
