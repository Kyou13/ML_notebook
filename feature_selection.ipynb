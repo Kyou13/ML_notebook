{
 "cells": [
  {
   "cell_type": "markdown",
   "metadata": {},
   "source": [
    "# 次元削減(実践 機械学習システム オライリー)\n",
    "- 機械学習アルゴリズムでは、不必要な特徴量は重みを０にすればいいのでは？\n",
    "- なぜ、減らしたほうがいいのか。\n",
    "    1. 学習器にやさしくない（SVMは高次元空間にも対応できる）\n",
    "    - パラメーターが多いと、過学習のリスクが高まる。\n",
    "    - 次元をまとめられるかもしれない。\n",
    "    - より高速に学習できる\n",
    "    - データの可視化には、３次元が限界。\n",
    "- 次元削減には、特徴量選択・特徴量抽出がある。\n",
    "    - 特徴量選択を自動で行うには、「フィルター法」、「ラッパー法」などがある。\n",
    "    - 特徴量抽出には、主成分分析,線形判別分析,多次元尺度構成法,etc"
   ]
  },
  {
   "cell_type": "markdown",
   "metadata": {},
   "source": [
    "## 特徴量選択\n",
    "1. フィルター法\n",
    "- ラッパー法"
   ]
  },
  {
   "cell_type": "markdown",
   "metadata": {},
   "source": [
    "### 1. フィルター法"
   ]
  },
  {
   "cell_type": "code",
   "execution_count": 7,
   "metadata": {},
   "outputs": [
    {
     "data": {
      "text/html": [
       "<div>\n",
       "<style scoped>\n",
       "    .dataframe tbody tr th:only-of-type {\n",
       "        vertical-align: middle;\n",
       "    }\n",
       "\n",
       "    .dataframe tbody tr th {\n",
       "        vertical-align: top;\n",
       "    }\n",
       "\n",
       "    .dataframe thead th {\n",
       "        text-align: right;\n",
       "    }\n",
       "</style>\n",
       "<table border=\"1\" class=\"dataframe\">\n",
       "  <thead>\n",
       "    <tr style=\"text-align: right;\">\n",
       "      <th></th>\n",
       "      <th>相関</th>\n",
       "      <th>P値</th>\n",
       "    </tr>\n",
       "  </thead>\n",
       "  <tbody>\n",
       "    <tr>\n",
       "      <th>0</th>\n",
       "      <td>0.999622</td>\n",
       "      <td>0.017498</td>\n",
       "    </tr>\n",
       "    <tr>\n",
       "      <th>1</th>\n",
       "      <td>0.253837</td>\n",
       "      <td>0.836615</td>\n",
       "    </tr>\n",
       "  </tbody>\n",
       "</table>\n",
       "</div>"
      ],
      "text/plain": [
       "         相関        P値\n",
       "0  0.999622  0.017498\n",
       "1  0.253837  0.836615"
      ]
     },
     "execution_count": 7,
     "metadata": {},
     "output_type": "execute_result"
    }
   ],
   "source": [
    "from scipy.stats import pearsonr\n",
    "import pandas as pd\n",
    "data = [list(pearsonr([1,2,3], [1,2,3.1])), list(pearsonr([1,2,3], [1,20,6]))]\n",
    "pd.DataFrame(data, columns=['相関', 'P値'])"
   ]
  },
  {
   "cell_type": "markdown",
   "metadata": {},
   "source": [
    "- 相関\n",
    "    - 相関が高く、P値が「`低い`」説明変数が目的変数との関係性があると考えられる。\n",
    "    - 相関が高くても、P値が「`高い`」ければ、目的変数との関係性は認められない。"
   ]
  },
  {
   "cell_type": "markdown",
   "metadata": {},
   "source": [
    "相関は、線形的な関係性を検出するのには有効だが、それ以外ではうまくいかない。  \n",
    "非線形な関係性を見るには、`相互情報量`を用いる"
   ]
  },
  {
   "cell_type": "markdown",
   "metadata": {},
   "source": [
    "- 相互情報量\n",
    "    - ある２つの特徴量の相互情報量が大きければ、どちらかを削除することができる。\n",
    "    - 問題点\n",
    "        - 計算量が膨大（変数の数^2くらい）\n",
    "        - 目的変数に間接的に関係のある変数を見落としてしまう。"
   ]
  },
  {
   "cell_type": "markdown",
   "metadata": {},
   "source": [
    "### 2. [ラッパー法](#RFE)\n",
    "- 下のscikit-learnの使い方を参照"
   ]
  },
  {
   "cell_type": "markdown",
   "metadata": {},
   "source": [
    "## 特徴抽出\n",
    "1. 主成分分析 (PCA: principal component analysis)、線形な手法\n",
    "- 多次元尺度構成法 (MDS: multi dimensional scaling)、非線形な手法"
   ]
  },
  {
   "cell_type": "markdown",
   "metadata": {},
   "source": [
    "### 1. 主成分分析 (PCA)\n",
    "- 特徴量を減らす必要があり、どの手法を用いればわからない場合、まずやるべき手法。  \n",
    "- 分類・回帰どちらにも適用することができる。\n",
    "- PCAの概要\n",
    "    - 各データから平均値を引くことで、各データを中心にもってくる\n",
    "    - 共分散行列を計算する\n",
    "    - 共分散行列の固有ベクトルを計算する\n",
    "- 共分散とは、２つの変数の関係性を表す値。２つの確率変数の関係性を表せる。  \n",
    "「片方の変化に対応して、もう片方が変化する傾向があるのか。」\n",
    "- 利点：固有ベクトルがどれくらいの分散を持つのかを知ることができる。  \n",
    "その数値を降順にソートすれば、目的変数と関係性の強いものから扱える。　　"
   ]
  },
  {
   "cell_type": "code",
   "execution_count": 97,
   "metadata": {},
   "outputs": [
    {
     "name": "stdout",
     "output_type": "stream",
     "text": [
      "Populating the interactive namespace from numpy and matplotlib\n"
     ]
    },
    {
     "data": {
      "image/png": "[encoded data removed]",
      "text/plain": [
       "<matplotlib.figure.Figure at 0x116e1c240>"
      ]
     },
     "metadata": {},
     "output_type": "display_data"
    }
   ],
   "source": [
    "'''変換前'''\n",
    "import numpy as np\n",
    "import matplotlib.pyplot as plt\n",
    "%pylab inline --no-import-all\n",
    "\n",
    "x1 = np.arange(0, 10, 0.2)\n",
    "x2 = x1+np.random.normal(loc=0, scale=1, size=len(x1))\n",
    "X = np.c_[(x1, x2)]\n",
    "good = np.array([x for x in X if x[0]>5 or x[1]>5])\n",
    "bad = np.array([x for x in X if x[0]<5 or x[1]<5])\n",
    "\n",
    "plt.plot(good[:, 0], good[:, 1], \"r.\", label=\"label 1\")\n",
    "plt.plot(bad[:, 0], bad[:, 1], \"g.\", label=\"label 2\")\n",
    "plt.grid()"
   ]
  },
  {
   "cell_type": "code",
   "execution_count": 98,
   "metadata": {},
   "outputs": [
    {
     "name": "stdout",
     "output_type": "stream",
     "text": [
      "[0.96894171]\n"
     ]
    },
    {
     "data": {
      "image/png": "[encoded data removed]",
      "text/plain": [
       "<matplotlib.figure.Figure at 0x1170c82b0>"
      ]
     },
     "metadata": {},
     "output_type": "display_data"
    }
   ],
   "source": [
    "'''変換後'''\n",
    "from sklearn import linear_model, decomposition, datasets\n",
    "pca = decomposition.PCA(n_components=1)\n",
    "Xtrans = pca.fit_transform(X)\n",
    "print (pca.explained_variance_ratio_)\n",
    "\n",
    "plt.plot(Xtrans[Xtrans>0], np.zeros(len( Xtrans[Xtrans>0])), \"r.\", label=\"label 1\")\n",
    "plt.plot(Xtrans[Xtrans<0], np.zeros(len( Xtrans[Xtrans<0])), \"g.\", label=\"label 2\")\n",
    "plt.grid()"
   ]
  },
  {
   "cell_type": "markdown",
   "metadata": {},
   "source": [
    "`問題点として`  \n",
    "- PCAは、線形な関係性しかみることができない。\n",
    "- クラス分類問題には弱い。  \n",
    "→線形的に同じ傾向（分散）を持つ２クラスのものを扱う場合、クラスラベルに関し、ラベルの手掛かりになる変数をみつけられない。  \n",
    "\n",
    "`解決策　LDA`  \n",
    "以下に使い方だけ。これを使えれば、クラスタリング問題のとき、非線形な関係性を持つ変数でも見つけられる。"
   ]
  },
  {
   "cell_type": "code",
   "execution_count": 116,
   "metadata": {},
   "outputs": [
    {
     "name": "stdout",
     "output_type": "stream",
     "text": [
      "Populating the interactive namespace from numpy and matplotlib\n"
     ]
    },
    {
     "data": {
      "image/png": "[encoded data removed]",
      "text/plain": [
       "<matplotlib.figure.Figure at 0x117108630>"
      ]
     },
     "metadata": {},
     "output_type": "display_data"
    }
   ],
   "source": [
    "'''変換前'''\n",
    "import numpy as np\n",
    "import matplotlib.pyplot as plt\n",
    "%pylab inline --no-import-all\n",
    "\n",
    "x1 = np.arange(0, 10, 0.2)\n",
    "x2 = x1+np.random.normal(loc=0, scale=1, size=len(x1))\n",
    "X = np.c_[(x1, x2)]\n",
    "good = X[x1>x2]\n",
    "bad = X[x1<x2]\n",
    "\n",
    "plt.plot(good[:, 0], good[:, 1], \"r.\", label=\"label 1\")\n",
    "plt.plot(bad[:, 0], bad[:, 1], \"g.\", label=\"label 2\")\n",
    "plt.grid()"
   ]
  },
  {
   "cell_type": "code",
   "execution_count": 114,
   "metadata": {},
   "outputs": [
    {
     "data": {
      "image/png": "[encoded data removed]",
      "text/plain": [
       "<matplotlib.figure.Figure at 0x11701c3c8>"
      ]
     },
     "metadata": {},
     "output_type": "display_data"
    }
   ],
   "source": [
    "'''変換後'''\n",
    "from sklearn import lda\n",
    "lda_inst = lda.LDA(n_components=1)\n",
    "Xtrans = lda_inst.fit_transform(X, good)\n",
    "\n",
    "plt.plot(Xtrans[Xtrans>0], np.zeros(len(Xtrans[Xtrans>0])), \"r.\", label=\"label 1\")\n",
    "plt.plot(Xtrans[Xtrans<0], np.zeros(len(Xtrans[Xtrans<0])), \"g.\", label=\"label 2\")\n",
    "plt.grid()"
   ]
  },
  {
   "cell_type": "markdown",
   "metadata": {},
   "source": [
    "### 2. 多次元尺度構成法 (MDS)\n",
    "- データの距離を保ったまま、低次元空間（２or３）に変換する。\n",
    "- データの距離には、ユークリッド距離がよく用いられる。\n",
    "- データを可視化するときに使える。"
   ]
  },
  {
   "cell_type": "markdown",
   "metadata": {},
   "source": [
    "----------------------\n",
    "# scikit-learnの特徴量選択\n",
    "- 単変量統計：各説明変数と目的変数との間の関係を計算し、最も高い確信度で関係している特徴量を選択\n",
    "    - [SelectKBest](#SelectKBest): 説明変数のうち上位k個を選択する。\n",
    "    - [SelectPercentile](#SelectPercentile): 説明変数のうち上位k個を選択する。引数 percentile に選択する特徴量の割合（0～100）を指定する。\n",
    "    - おまけで、[GenericUnivariateSelect](#GenericUnivariateSelect)\n",
    "- モデルベース特徴量選択：モデルで表される特徴量の重要性を元に特徴量を選択\n",
    "    - [SelectFromModel](#SelectFromModel)\n",
    "- 反復特徴量選択\n",
    "    - [RFE](#RFE)\n",
    "- 偏回帰係数"
   ]
  },
  {
   "cell_type": "code",
   "execution_count": 26,
   "metadata": {
    "collapsed": true
   },
   "outputs": [],
   "source": [
    "import re\n",
    "import numpy as np\n",
    "import pandas as pd\n",
    "from tqdm import tqdm\n",
    "import collections\n",
    "from datetime import date, datetime, timedelta\n",
    "\n",
    "import warnings\n",
    "warnings.filterwarnings('ignore')\n",
    "\n",
    "import numpy as np\n",
    "\n",
    "pd.set_option('display.max_columns', None) # 常に全カラム表示\n",
    "pd.set_option(\"display.max_rows\", 101) # 行数"
   ]
  },
  {
   "cell_type": "markdown",
   "metadata": {},
   "source": [
    "## 単変量統計\n",
    "### SelectKBest\n",
    "説明変数のうち上位k個を選択する。"
   ]
  },
  {
   "cell_type": "code",
   "execution_count": 177,
   "metadata": {
    "scrolled": false
   },
   "outputs": [
    {
     "name": "stdout",
     "output_type": "stream",
     "text": [
      "X.shape=(506, 13), X_selected.shape=(506, 5)\n"
     ]
    },
    {
     "data": {
      "text/html": [
       "<div>\n",
       "<style scoped>\n",
       "    .dataframe tbody tr th:only-of-type {\n",
       "        vertical-align: middle;\n",
       "    }\n",
       "\n",
       "    .dataframe tbody tr th {\n",
       "        vertical-align: top;\n",
       "    }\n",
       "\n",
       "    .dataframe thead th {\n",
       "        text-align: right;\n",
       "    }\n",
       "</style>\n",
       "<table border=\"1\" class=\"dataframe\">\n",
       "  <thead>\n",
       "    <tr style=\"text-align: right;\">\n",
       "      <th></th>\n",
       "      <th>0</th>\n",
       "      <th>1</th>\n",
       "      <th>2</th>\n",
       "      <th>3</th>\n",
       "      <th>4</th>\n",
       "      <th>5</th>\n",
       "      <th>6</th>\n",
       "      <th>7</th>\n",
       "      <th>8</th>\n",
       "      <th>9</th>\n",
       "      <th>10</th>\n",
       "      <th>11</th>\n",
       "      <th>12</th>\n",
       "    </tr>\n",
       "  </thead>\n",
       "  <tbody>\n",
       "    <tr>\n",
       "      <th>変数</th>\n",
       "      <td>CRIM</td>\n",
       "      <td>ZN</td>\n",
       "      <td>INDUS</td>\n",
       "      <td>CHAS</td>\n",
       "      <td>NOX</td>\n",
       "      <td>RM</td>\n",
       "      <td>AGE</td>\n",
       "      <td>DIS</td>\n",
       "      <td>RAD</td>\n",
       "      <td>TAX</td>\n",
       "      <td>PTRATIO</td>\n",
       "      <td>B</td>\n",
       "      <td>LSTAT</td>\n",
       "    </tr>\n",
       "    <tr>\n",
       "      <th>有無</th>\n",
       "      <td>False</td>\n",
       "      <td>False</td>\n",
       "      <td>True</td>\n",
       "      <td>False</td>\n",
       "      <td>False</td>\n",
       "      <td>True</td>\n",
       "      <td>False</td>\n",
       "      <td>False</td>\n",
       "      <td>False</td>\n",
       "      <td>True</td>\n",
       "      <td>True</td>\n",
       "      <td>False</td>\n",
       "      <td>True</td>\n",
       "    </tr>\n",
       "  </tbody>\n",
       "</table>\n",
       "</div>"
      ],
      "text/plain": [
       "       0      1      2      3      4     5      6      7      8     9   \\\n",
       "変数   CRIM     ZN  INDUS   CHAS    NOX    RM    AGE    DIS    RAD   TAX   \n",
       "有無  False  False   True  False  False  True  False  False  False  True   \n",
       "\n",
       "         10     11     12  \n",
       "変数  PTRATIO      B  LSTAT  \n",
       "有無     True  False   True  "
      ]
     },
     "execution_count": 177,
     "metadata": {},
     "output_type": "execute_result"
    }
   ],
   "source": [
    "from sklearn.datasets import load_boston\n",
    "from sklearn.feature_selection import SelectKBest, f_regression\n",
    "\n",
    "boston = load_boston()\n",
    "X = boston.data\n",
    "y = boston.target\n",
    "\n",
    "\n",
    "# 5つの特徴量を選択\n",
    "selector = SelectKBest(score_func=f_regression, k=5) \n",
    "selector.fit(X, y)\n",
    "mask = selector.get_support()    # 各特徴量を選択したか否かのmaskを取得\n",
    "\n",
    "# 選択した特徴量の列のみ取得\n",
    "X_selected = selector.transform(X)\n",
    "print(\"X.shape={}, X_selected.shape={}\".format(X.shape, X_selected.shape))\n",
    "\n",
    "df = pd.DataFrame({'変数': boston.feature_names,\n",
    "                                    '有無': mask}, columns=['変数', '有無'])\n",
    "# df.index = df.pop('変数')\n",
    "df.T"
   ]
  },
  {
   "cell_type": "markdown",
   "metadata": {},
   "source": [
    "### SelectPercentile\n",
    "説明変数のうち上位k個を選択する。引数 percentile に選択する特徴量の割合（0～100）を指定する。"
   ]
  },
  {
   "cell_type": "code",
   "execution_count": 179,
   "metadata": {},
   "outputs": [
    {
     "name": "stdout",
     "output_type": "stream",
     "text": [
      "X.shape=(506, 13), X_selected.shape=(506, 5)\n"
     ]
    },
    {
     "data": {
      "text/html": [
       "<div>\n",
       "<style scoped>\n",
       "    .dataframe tbody tr th:only-of-type {\n",
       "        vertical-align: middle;\n",
       "    }\n",
       "\n",
       "    .dataframe tbody tr th {\n",
       "        vertical-align: top;\n",
       "    }\n",
       "\n",
       "    .dataframe thead th {\n",
       "        text-align: right;\n",
       "    }\n",
       "</style>\n",
       "<table border=\"1\" class=\"dataframe\">\n",
       "  <thead>\n",
       "    <tr style=\"text-align: right;\">\n",
       "      <th></th>\n",
       "      <th>0</th>\n",
       "      <th>1</th>\n",
       "      <th>2</th>\n",
       "      <th>3</th>\n",
       "      <th>4</th>\n",
       "      <th>5</th>\n",
       "      <th>6</th>\n",
       "      <th>7</th>\n",
       "      <th>8</th>\n",
       "      <th>9</th>\n",
       "      <th>10</th>\n",
       "      <th>11</th>\n",
       "      <th>12</th>\n",
       "    </tr>\n",
       "  </thead>\n",
       "  <tbody>\n",
       "    <tr>\n",
       "      <th>変数</th>\n",
       "      <td>CRIM</td>\n",
       "      <td>ZN</td>\n",
       "      <td>INDUS</td>\n",
       "      <td>CHAS</td>\n",
       "      <td>NOX</td>\n",
       "      <td>RM</td>\n",
       "      <td>AGE</td>\n",
       "      <td>DIS</td>\n",
       "      <td>RAD</td>\n",
       "      <td>TAX</td>\n",
       "      <td>PTRATIO</td>\n",
       "      <td>B</td>\n",
       "      <td>LSTAT</td>\n",
       "    </tr>\n",
       "    <tr>\n",
       "      <th>有無</th>\n",
       "      <td>False</td>\n",
       "      <td>False</td>\n",
       "      <td>True</td>\n",
       "      <td>False</td>\n",
       "      <td>False</td>\n",
       "      <td>True</td>\n",
       "      <td>False</td>\n",
       "      <td>False</td>\n",
       "      <td>False</td>\n",
       "      <td>True</td>\n",
       "      <td>True</td>\n",
       "      <td>False</td>\n",
       "      <td>True</td>\n",
       "    </tr>\n",
       "  </tbody>\n",
       "</table>\n",
       "</div>"
      ],
      "text/plain": [
       "       0      1      2      3      4     5      6      7      8     9   \\\n",
       "変数   CRIM     ZN  INDUS   CHAS    NOX    RM    AGE    DIS    RAD   TAX   \n",
       "有無  False  False   True  False  False  True  False  False  False  True   \n",
       "\n",
       "         10     11     12  \n",
       "変数  PTRATIO      B  LSTAT  \n",
       "有無     True  False   True  "
      ]
     },
     "execution_count": 179,
     "metadata": {},
     "output_type": "execute_result"
    }
   ],
   "source": [
    "from sklearn.datasets import load_boston\n",
    "from sklearn.feature_selection import SelectPercentile, f_regression\n",
    "\n",
    "boston = load_boston()\n",
    "X = boston.data\n",
    "y = boston.target\n",
    "\n",
    "# 特徴量のうち40%を選択\n",
    "selector = SelectPercentile(score_func=f_regression, percentile=40) \n",
    "selector.fit(X, y)\n",
    "mask = selector.get_support()\n",
    "\n",
    "# 選択した特徴量の列のみ取得\n",
    "X_selected = selector.transform(X)\n",
    "print(\"X.shape={}, X_selected.shape={}\".format(X.shape, X_selected.shape))\n",
    "\n",
    "df = pd.DataFrame({'変数': boston.feature_names,\n",
    "                                    '有無': mask}, columns=['変数', '有無'])\n",
    "# df.index = df.pop('変数')\n",
    "df.T"
   ]
  },
  {
   "cell_type": "markdown",
   "metadata": {},
   "source": [
    "### GenericUnivariateSelect\n",
    "mode でモード(‘percentile’, ‘k_best’, ‘fpr’, ‘fdr’, ‘fwe’) 、param で各モードのパラメータを設定する。"
   ]
  },
  {
   "cell_type": "code",
   "execution_count": 186,
   "metadata": {
    "collapsed": true
   },
   "outputs": [],
   "source": [
    "from sklearn.feature_selection import GenericUnivariateSelect\n",
    "selector = GenericUnivariateSelect(mode='percentile', score_func=f_regression, param=40)\n",
    "# 上と下は同じ意味\n",
    "selector = SelectPercentile(score_func=f_regression, percentile=40) "
   ]
  },
  {
   "cell_type": "markdown",
   "metadata": {},
   "source": [
    "## モデルベース特徴量選択\n",
    "### SelectFromModel  \n",
    "引数には estimator、および閾値 threshold を指定する。"
   ]
  },
  {
   "cell_type": "code",
   "execution_count": 10,
   "metadata": {},
   "outputs": [
    {
     "name": "stdout",
     "output_type": "stream",
     "text": [
      "X.shape=(506, 13), X_selected.shape=(506, 7)\n"
     ]
    },
    {
     "data": {
      "text/html": [
       "<div>\n",
       "<style scoped>\n",
       "    .dataframe tbody tr th:only-of-type {\n",
       "        vertical-align: middle;\n",
       "    }\n",
       "\n",
       "    .dataframe tbody tr th {\n",
       "        vertical-align: top;\n",
       "    }\n",
       "\n",
       "    .dataframe thead th {\n",
       "        text-align: right;\n",
       "    }\n",
       "</style>\n",
       "<table border=\"1\" class=\"dataframe\">\n",
       "  <thead>\n",
       "    <tr style=\"text-align: right;\">\n",
       "      <th></th>\n",
       "      <th>0</th>\n",
       "      <th>1</th>\n",
       "      <th>2</th>\n",
       "      <th>3</th>\n",
       "      <th>4</th>\n",
       "      <th>5</th>\n",
       "      <th>6</th>\n",
       "      <th>7</th>\n",
       "      <th>8</th>\n",
       "      <th>9</th>\n",
       "      <th>10</th>\n",
       "      <th>11</th>\n",
       "      <th>12</th>\n",
       "    </tr>\n",
       "  </thead>\n",
       "  <tbody>\n",
       "    <tr>\n",
       "      <th>変数</th>\n",
       "      <td>CRIM</td>\n",
       "      <td>ZN</td>\n",
       "      <td>INDUS</td>\n",
       "      <td>CHAS</td>\n",
       "      <td>NOX</td>\n",
       "      <td>RM</td>\n",
       "      <td>AGE</td>\n",
       "      <td>DIS</td>\n",
       "      <td>RAD</td>\n",
       "      <td>TAX</td>\n",
       "      <td>PTRATIO</td>\n",
       "      <td>B</td>\n",
       "      <td>LSTAT</td>\n",
       "    </tr>\n",
       "    <tr>\n",
       "      <th>有無</th>\n",
       "      <td>True</td>\n",
       "      <td>False</td>\n",
       "      <td>False</td>\n",
       "      <td>False</td>\n",
       "      <td>True</td>\n",
       "      <td>True</td>\n",
       "      <td>False</td>\n",
       "      <td>True</td>\n",
       "      <td>False</td>\n",
       "      <td>True</td>\n",
       "      <td>True</td>\n",
       "      <td>False</td>\n",
       "      <td>True</td>\n",
       "    </tr>\n",
       "  </tbody>\n",
       "</table>\n",
       "</div>"
      ],
      "text/plain": [
       "      0      1      2      3     4     5      6     7      8     9        10  \\\n",
       "変数  CRIM     ZN  INDUS   CHAS   NOX    RM    AGE   DIS    RAD   TAX  PTRATIO   \n",
       "有無  True  False  False  False  True  True  False  True  False  True     True   \n",
       "\n",
       "       11     12  \n",
       "変数      B  LSTAT  \n",
       "有無  False   True  "
      ]
     },
     "execution_count": 10,
     "metadata": {},
     "output_type": "execute_result"
    }
   ],
   "source": [
    "from sklearn.datasets import load_boston\n",
    "from sklearn.feature_selection import SelectFromModel\n",
    "from sklearn.ensemble import RandomForestRegressor\n",
    "\n",
    "boston = load_boston()\n",
    "X = boston.data\n",
    "y = boston.target\n",
    "\n",
    "# estimator として RandomForestRegressor を使用。重要度が median 以上のものを選択\n",
    "selector = SelectFromModel(RandomForestRegressor(n_estimators=100, random_state=42), threshold=\"median\")    \n",
    "selector.fit(X, y)\n",
    "mask = selector.get_support()\n",
    "\n",
    "# 選択した特徴量の列のみ取得\n",
    "X_selected = selector.transform(X)\n",
    "print(\"X.shape={}, X_selected.shape={}\".format(X.shape, X_selected.shape))\n",
    "\n",
    "df = pd.DataFrame({'変数': boston.feature_names,\n",
    "                                    '有無': mask}, columns=['変数', '有無'])\n",
    "df.T"
   ]
  },
  {
   "cell_type": "markdown",
   "metadata": {},
   "source": [
    "## 反復特徴量選択 \n",
    "### RFE\n",
    "(recursive feature elimination: 再帰的特徴削減)   \n",
    "まったく特徴量を使わないところから、ある基準が満たされるまで1つずつ重要度が高い特徴量を加えていく、もしくは、すべての特徴量を使う状態から1つずつ特徴量を取り除いていくという操作を繰り返すことで特徴量を選択する。\n",
    "\n",
    "引数には estimator、および特徴量の数 n_features_to_select を指定する。\n",
    "\n",
    "(特徴量数 - n_features_to_select) 回、モデル作成=>特徴量削除 が行われるので処理時間がかかる。"
   ]
  },
  {
   "cell_type": "code",
   "execution_count": 4,
   "metadata": {
    "scrolled": true
   },
   "outputs": [
    {
     "name": "stdout",
     "output_type": "stream",
     "text": [
      "X.shape=(506, 13), X_selected.shape=(506, 5)\n"
     ]
    },
    {
     "data": {
      "text/html": [
       "<div>\n",
       "<style scoped>\n",
       "    .dataframe tbody tr th:only-of-type {\n",
       "        vertical-align: middle;\n",
       "    }\n",
       "\n",
       "    .dataframe tbody tr th {\n",
       "        vertical-align: top;\n",
       "    }\n",
       "\n",
       "    .dataframe thead th {\n",
       "        text-align: right;\n",
       "    }\n",
       "</style>\n",
       "<table border=\"1\" class=\"dataframe\">\n",
       "  <thead>\n",
       "    <tr style=\"text-align: right;\">\n",
       "      <th></th>\n",
       "      <th>0</th>\n",
       "      <th>1</th>\n",
       "      <th>2</th>\n",
       "      <th>3</th>\n",
       "      <th>4</th>\n",
       "      <th>5</th>\n",
       "      <th>6</th>\n",
       "      <th>7</th>\n",
       "      <th>8</th>\n",
       "      <th>9</th>\n",
       "      <th>10</th>\n",
       "      <th>11</th>\n",
       "      <th>12</th>\n",
       "    </tr>\n",
       "  </thead>\n",
       "  <tbody>\n",
       "    <tr>\n",
       "      <th>変数</th>\n",
       "      <td>CRIM</td>\n",
       "      <td>ZN</td>\n",
       "      <td>INDUS</td>\n",
       "      <td>CHAS</td>\n",
       "      <td>NOX</td>\n",
       "      <td>RM</td>\n",
       "      <td>AGE</td>\n",
       "      <td>DIS</td>\n",
       "      <td>RAD</td>\n",
       "      <td>TAX</td>\n",
       "      <td>PTRATIO</td>\n",
       "      <td>B</td>\n",
       "      <td>LSTAT</td>\n",
       "    </tr>\n",
       "    <tr>\n",
       "      <th>有無</th>\n",
       "      <td>True</td>\n",
       "      <td>False</td>\n",
       "      <td>False</td>\n",
       "      <td>False</td>\n",
       "      <td>True</td>\n",
       "      <td>True</td>\n",
       "      <td>False</td>\n",
       "      <td>True</td>\n",
       "      <td>False</td>\n",
       "      <td>False</td>\n",
       "      <td>False</td>\n",
       "      <td>False</td>\n",
       "      <td>True</td>\n",
       "    </tr>\n",
       "  </tbody>\n",
       "</table>\n",
       "</div>"
      ],
      "text/plain": [
       "      0      1      2      3     4     5      6     7      8      9        10  \\\n",
       "変数  CRIM     ZN  INDUS   CHAS   NOX    RM    AGE   DIS    RAD    TAX  PTRATIO   \n",
       "有無  True  False  False  False  True  True  False  True  False  False    False   \n",
       "\n",
       "       11     12  \n",
       "変数      B  LSTAT  \n",
       "有無  False   True  "
      ]
     },
     "execution_count": 4,
     "metadata": {},
     "output_type": "execute_result"
    }
   ],
   "source": [
    "from sklearn.datasets import load_boston\n",
    "from sklearn.feature_selection import RFE\n",
    "from sklearn.ensemble import RandomForestRegressor\n",
    "\n",
    "boston = load_boston()\n",
    "X = boston.data\n",
    "y = boston.target\n",
    "\n",
    "# estimator として RandomForestRegressor を使用。特徴量を5個選択\n",
    "selector = RFE(RandomForestRegressor(n_estimators=100, random_state=42), n_features_to_select=5)\n",
    "selector.fit(X, y)\n",
    "mask = selector.get_support()\n",
    "\n",
    "# 選択した特徴量の列のみ取得\n",
    "X_selected = selector.transform(X)\n",
    "print(\"X.shape={}, X_selected.shape={}\".format(X.shape, X_selected.shape))\n",
    "\n",
    "df = pd.DataFrame({'変数': boston.feature_names,\n",
    "                                    '有無': mask}, columns=['変数', '有無'])\n",
    "df.T"
   ]
  },
  {
   "cell_type": "markdown",
   "metadata": {
    "collapsed": true
   },
   "source": [
    "## 偏回帰係数\n",
    "- それぞれの変数がどれくらい目的変数に影響ウィオ与えているのかを知る"
   ]
  },
  {
   "cell_type": "code",
   "execution_count": 51,
   "metadata": {
    "collapsed": true
   },
   "outputs": [],
   "source": [
    "from sklearn.datasets import load_boston\n",
    "\n",
    "from sklearn.model_selection import train_test_split\n",
    "from sklearn.metrics import classification_report\n",
    "from sklearn.metrics import confusion_matrix\n",
    "\n",
    "from sklearn.svm import SVC\n",
    "from sklearn.linear_model import LogisticRegression"
   ]
  },
  {
   "cell_type": "code",
   "execution_count": 48,
   "metadata": {},
   "outputs": [
    {
     "data": {
      "text/html": [
       "<div>\n",
       "<style scoped>\n",
       "    .dataframe tbody tr th:only-of-type {\n",
       "        vertical-align: middle;\n",
       "    }\n",
       "\n",
       "    .dataframe tbody tr th {\n",
       "        vertical-align: top;\n",
       "    }\n",
       "\n",
       "    .dataframe thead th {\n",
       "        text-align: right;\n",
       "    }\n",
       "</style>\n",
       "<table border=\"1\" class=\"dataframe\">\n",
       "  <thead>\n",
       "    <tr style=\"text-align: right;\">\n",
       "      <th></th>\n",
       "      <th>CRIM</th>\n",
       "      <th>ZN</th>\n",
       "      <th>INDUS</th>\n",
       "      <th>CHAS</th>\n",
       "      <th>NOX</th>\n",
       "      <th>RM</th>\n",
       "      <th>AGE</th>\n",
       "      <th>DIS</th>\n",
       "      <th>RAD</th>\n",
       "      <th>TAX</th>\n",
       "      <th>PTRATIO</th>\n",
       "      <th>B</th>\n",
       "      <th>LSTAT</th>\n",
       "      <th>Price</th>\n",
       "    </tr>\n",
       "  </thead>\n",
       "  <tbody>\n",
       "    <tr>\n",
       "      <th>0</th>\n",
       "      <td>0.00632</td>\n",
       "      <td>18.0</td>\n",
       "      <td>2.31</td>\n",
       "      <td>0.0</td>\n",
       "      <td>0.538</td>\n",
       "      <td>6.575</td>\n",
       "      <td>65.2</td>\n",
       "      <td>4.0900</td>\n",
       "      <td>1.0</td>\n",
       "      <td>296.0</td>\n",
       "      <td>15.3</td>\n",
       "      <td>396.90</td>\n",
       "      <td>4.98</td>\n",
       "      <td>24.0</td>\n",
       "    </tr>\n",
       "    <tr>\n",
       "      <th>1</th>\n",
       "      <td>0.02731</td>\n",
       "      <td>0.0</td>\n",
       "      <td>7.07</td>\n",
       "      <td>0.0</td>\n",
       "      <td>0.469</td>\n",
       "      <td>6.421</td>\n",
       "      <td>78.9</td>\n",
       "      <td>4.9671</td>\n",
       "      <td>2.0</td>\n",
       "      <td>242.0</td>\n",
       "      <td>17.8</td>\n",
       "      <td>396.90</td>\n",
       "      <td>9.14</td>\n",
       "      <td>21.6</td>\n",
       "    </tr>\n",
       "    <tr>\n",
       "      <th>2</th>\n",
       "      <td>0.02729</td>\n",
       "      <td>0.0</td>\n",
       "      <td>7.07</td>\n",
       "      <td>0.0</td>\n",
       "      <td>0.469</td>\n",
       "      <td>7.185</td>\n",
       "      <td>61.1</td>\n",
       "      <td>4.9671</td>\n",
       "      <td>2.0</td>\n",
       "      <td>242.0</td>\n",
       "      <td>17.8</td>\n",
       "      <td>392.83</td>\n",
       "      <td>4.03</td>\n",
       "      <td>34.7</td>\n",
       "    </tr>\n",
       "    <tr>\n",
       "      <th>3</th>\n",
       "      <td>0.03237</td>\n",
       "      <td>0.0</td>\n",
       "      <td>2.18</td>\n",
       "      <td>0.0</td>\n",
       "      <td>0.458</td>\n",
       "      <td>6.998</td>\n",
       "      <td>45.8</td>\n",
       "      <td>6.0622</td>\n",
       "      <td>3.0</td>\n",
       "      <td>222.0</td>\n",
       "      <td>18.7</td>\n",
       "      <td>394.63</td>\n",
       "      <td>2.94</td>\n",
       "      <td>33.4</td>\n",
       "    </tr>\n",
       "    <tr>\n",
       "      <th>4</th>\n",
       "      <td>0.06905</td>\n",
       "      <td>0.0</td>\n",
       "      <td>2.18</td>\n",
       "      <td>0.0</td>\n",
       "      <td>0.458</td>\n",
       "      <td>7.147</td>\n",
       "      <td>54.2</td>\n",
       "      <td>6.0622</td>\n",
       "      <td>3.0</td>\n",
       "      <td>222.0</td>\n",
       "      <td>18.7</td>\n",
       "      <td>396.90</td>\n",
       "      <td>5.33</td>\n",
       "      <td>36.2</td>\n",
       "    </tr>\n",
       "  </tbody>\n",
       "</table>\n",
       "</div>"
      ],
      "text/plain": [
       "      CRIM    ZN  INDUS  CHAS    NOX     RM   AGE     DIS  RAD    TAX  \\\n",
       "0  0.00632  18.0   2.31   0.0  0.538  6.575  65.2  4.0900  1.0  296.0   \n",
       "1  0.02731   0.0   7.07   0.0  0.469  6.421  78.9  4.9671  2.0  242.0   \n",
       "2  0.02729   0.0   7.07   0.0  0.469  7.185  61.1  4.9671  2.0  242.0   \n",
       "3  0.03237   0.0   2.18   0.0  0.458  6.998  45.8  6.0622  3.0  222.0   \n",
       "4  0.06905   0.0   2.18   0.0  0.458  7.147  54.2  6.0622  3.0  222.0   \n",
       "\n",
       "   PTRATIO       B  LSTAT  Price  \n",
       "0     15.3  396.90   4.98   24.0  \n",
       "1     17.8  396.90   9.14   21.6  \n",
       "2     17.8  392.83   4.03   34.7  \n",
       "3     18.7  394.63   2.94   33.4  \n",
       "4     18.7  396.90   5.33   36.2  "
      ]
     },
     "execution_count": 48,
     "metadata": {},
     "output_type": "execute_result"
    }
   ],
   "source": [
    "boston = load_boston()\n",
    "df = pd.DataFrame(boston.data, columns=boston.feature_names)\n",
    "df['Price'] = boston.target\n",
    "df.head()"
   ]
  },
  {
   "cell_type": "code",
   "execution_count": 54,
   "metadata": {},
   "outputs": [
    {
     "data": {
      "text/plain": [
       "LogisticRegression(C=1.0, class_weight=None, dual=False, fit_intercept=True,\n",
       "          intercept_scaling=1, max_iter=100, multi_class='ovr', n_jobs=1,\n",
       "          penalty='l2', random_state=None, solver='liblinear', tol=0.0001,\n",
       "          verbose=0, warm_start=False)"
      ]
     },
     "execution_count": 54,
     "metadata": {},
     "output_type": "execute_result"
    }
   ],
   "source": [
    "X = df.drop(['Price'], axis=1)\n",
    "y = df['Price'].astype(int)\n",
    "\n",
    "x_train, x_test, y_train, y_test = train_test_split(X, y, test_size=0.2, random_state=2)\n",
    "\n",
    "clf = LogisticRegression()\n",
    "clf.fit(x_train, y_train)"
   ]
  },
  {
   "cell_type": "code",
   "execution_count": 57,
   "metadata": {
    "collapsed": true
   },
   "outputs": [],
   "source": [
    "# ['変数', '偏回帰係数', '限界効果']DFを作る\n",
    "coeff_df = pd.DataFrame({\"変数\": boston.feature_names,\n",
    "                                    \"回帰係数\": clf.coef_[0]\n",
    "                   }, columns=['変数', '回帰係数']).sort_values(by='回帰係数')\n",
    "coeff_df.reset_index(drop=True, inplace=True)\n",
    "# 回帰係数の桁数の調整（６桁に揃える）\n",
    "# coeff_df['回帰係数'] = np.round(coeff_df['回帰係数'].values, 6)"
   ]
  },
  {
   "cell_type": "code",
   "execution_count": 58,
   "metadata": {
    "collapsed": true
   },
   "outputs": [],
   "source": [
    "# オッズ比の追加\n",
    "Nth_power_of_odds = {\n",
    "    \n",
    "}"
   ]
  },
  {
   "cell_type": "code",
   "execution_count": 59,
   "metadata": {
    "scrolled": false
   },
   "outputs": [
    {
     "data": {
      "text/html": [
       "<div>\n",
       "<style scoped>\n",
       "    .dataframe tbody tr th:only-of-type {\n",
       "        vertical-align: middle;\n",
       "    }\n",
       "\n",
       "    .dataframe tbody tr th {\n",
       "        vertical-align: top;\n",
       "    }\n",
       "\n",
       "    .dataframe thead th {\n",
       "        text-align: right;\n",
       "    }\n",
       "</style>\n",
       "<table border=\"1\" class=\"dataframe\">\n",
       "  <thead>\n",
       "    <tr style=\"text-align: right;\">\n",
       "      <th></th>\n",
       "      <th>変数</th>\n",
       "      <th>回帰係数</th>\n",
       "      <th>限界効果</th>\n",
       "    </tr>\n",
       "  </thead>\n",
       "  <tbody>\n",
       "    <tr>\n",
       "      <th>0</th>\n",
       "      <td>PTRATIO</td>\n",
       "      <td>-0.835133</td>\n",
       "      <td>0.433817</td>\n",
       "    </tr>\n",
       "    <tr>\n",
       "      <th>1</th>\n",
       "      <td>ZN</td>\n",
       "      <td>-0.227018</td>\n",
       "      <td>0.796907</td>\n",
       "    </tr>\n",
       "    <tr>\n",
       "      <th>2</th>\n",
       "      <td>RM</td>\n",
       "      <td>-0.220334</td>\n",
       "      <td>0.802251</td>\n",
       "    </tr>\n",
       "    <tr>\n",
       "      <th>3</th>\n",
       "      <td>DIS</td>\n",
       "      <td>-0.172593</td>\n",
       "      <td>0.841480</td>\n",
       "    </tr>\n",
       "    <tr>\n",
       "      <th>4</th>\n",
       "      <td>INDUS</td>\n",
       "      <td>-0.162511</td>\n",
       "      <td>0.850007</td>\n",
       "    </tr>\n",
       "    <tr>\n",
       "      <th>5</th>\n",
       "      <td>CHAS</td>\n",
       "      <td>-0.033304</td>\n",
       "      <td>0.967244</td>\n",
       "    </tr>\n",
       "    <tr>\n",
       "      <th>6</th>\n",
       "      <td>TAX</td>\n",
       "      <td>-0.023391</td>\n",
       "      <td>0.976880</td>\n",
       "    </tr>\n",
       "    <tr>\n",
       "      <th>7</th>\n",
       "      <td>NOX</td>\n",
       "      <td>-0.008680</td>\n",
       "      <td>0.991358</td>\n",
       "    </tr>\n",
       "    <tr>\n",
       "      <th>8</th>\n",
       "      <td>B</td>\n",
       "      <td>0.011523</td>\n",
       "      <td>1.011589</td>\n",
       "    </tr>\n",
       "    <tr>\n",
       "      <th>9</th>\n",
       "      <td>CRIM</td>\n",
       "      <td>0.067529</td>\n",
       "      <td>1.069861</td>\n",
       "    </tr>\n",
       "    <tr>\n",
       "      <th>10</th>\n",
       "      <td>AGE</td>\n",
       "      <td>0.102260</td>\n",
       "      <td>1.107672</td>\n",
       "    </tr>\n",
       "    <tr>\n",
       "      <th>11</th>\n",
       "      <td>LSTAT</td>\n",
       "      <td>0.104165</td>\n",
       "      <td>1.109784</td>\n",
       "    </tr>\n",
       "    <tr>\n",
       "      <th>12</th>\n",
       "      <td>RAD</td>\n",
       "      <td>0.637176</td>\n",
       "      <td>1.891133</td>\n",
       "    </tr>\n",
       "  </tbody>\n",
       "</table>\n",
       "</div>"
      ],
      "text/plain": [
       "         変数      回帰係数      限界効果\n",
       "0   PTRATIO -0.835133  0.433817\n",
       "1        ZN -0.227018  0.796907\n",
       "2        RM -0.220334  0.802251\n",
       "3       DIS -0.172593  0.841480\n",
       "4     INDUS -0.162511  0.850007\n",
       "5      CHAS -0.033304  0.967244\n",
       "6       TAX -0.023391  0.976880\n",
       "7       NOX -0.008680  0.991358\n",
       "8         B  0.011523  1.011589\n",
       "9      CRIM  0.067529  1.069861\n",
       "10      AGE  0.102260  1.107672\n",
       "11    LSTAT  0.104165  1.109784\n",
       "12      RAD  0.637176  1.891133"
      ]
     },
     "execution_count": 59,
     "metadata": {},
     "output_type": "execute_result"
    }
   ],
   "source": [
    "# オッズ比を計算する関数\n",
    "def add_odds(row):\n",
    "    variable, beta = row\n",
    "    if variable in Nth_power_of_odds:\n",
    "        n_th = Nth_power_of_odds[variable]\n",
    "    else:\n",
    "        n_th = 1\n",
    "    return np.exp(beta)**n_th\n",
    "\n",
    "coeff_df['限界効果'] = coeff_df[['変数', '回帰係数']].apply(add_odds, axis=1)\n",
    "coeff_df.round(6) # 桁を６桁に揃える。pd.DataFrameにメソッドがあった。"
   ]
  }
 ],
 "metadata": {
  "kernelspec": {
   "display_name": "Python [conda root]",
   "language": "python",
   "name": "conda-root-py"
  },
  "language_info": {
   "codemirror_mode": {
    "name": "ipython",
    "version": 3
   },
   "file_extension": ".py",
   "mimetype": "text/x-python",
   "name": "python",
   "nbconvert_exporter": "python",
   "pygments_lexer": "ipython3",
   "version": "3.5.3"
  }
 },
 "nbformat": 4,
 "nbformat_minor": 2
}
