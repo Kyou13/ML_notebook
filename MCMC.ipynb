{
 "cells": [
  {
   "cell_type": "markdown",
   "metadata": {},
   "source": [
    "# マルコフ連鎖モンテカルロ法(MCMC)"
   ]
  },
  {
   "cell_type": "code",
   "execution_count": 1,
   "metadata": {},
   "outputs": [],
   "source": [
    "import numpy as np\n",
    "import numpy.random as rd\n",
    "import pandas as pd\n",
    "import scipy.stats as st\n",
    "import copy\n",
    "\n",
    "%matplotlib inline\n",
    "import matplotlib.pyplot as plt\n",
    "from matplotlib import animation as ani\n",
    "import matplotlib.cm as cm\n",
    "import seaborn as sns\n",
    "sns.set(style=\"whitegrid\", palette=\"muted\", color_codes=True)"
   ]
  },
  {
   "cell_type": "code",
   "execution_count": 2,
   "metadata": {},
   "outputs": [],
   "source": [
    "# 目標分布：２次元正規分布の確率密度関数から正規化定数を除いたもの\n",
    "def P(x1, x2, b):\n",
    "    assert np.abs(b) < 1\n",
    "    return np.exp(-0.5*(x1**2 - 2*b*x1*x2 + x2**2))"
   ]
  },
  {
   "cell_type": "code",
   "execution_count": 3,
   "metadata": {},
   "outputs": [
    {
     "name": "stdout",
     "output_type": "stream",
     "text": [
      "提案分布の種別: norm\n"
     ]
    }
   ],
   "source": [
    "# parameters\n",
    "b = 0.5            # 対象分布の共分散\n",
    "delta = 1          # 提案分布の標準偏差\n",
    "dist_type = \"norm\" # 提案分布の種別(\"norm\" or \"unif\")\n",
    "print (\"提案分布の種別:\", dist_type)\n",
    "\n",
    "num_frame = 150.   # アニメーションのトータルフレーム数\n",
    "\n",
    "# サンプリング結果を格納するリスト\n",
    "sample = []\n",
    "# 1:accept, 0:rejectを格納するリスト\n",
    "acc_rej = [] "
   ]
  },
  {
   "cell_type": "code",
   "execution_count": 4,
   "metadata": {},
   "outputs": [
    {
     "name": "stderr",
     "output_type": "stream",
     "text": [
      "Traceback (most recent call last):\n",
      "  File \"/Users/louis/.pyenv/versions/anaconda3-4.2.0/lib/python3.5/site-packages/matplotlib/cbook/__init__.py\", line 388, in process\n",
      "    proxy(*args, **kwargs)\n",
      "  File \"/Users/louis/.pyenv/versions/anaconda3-4.2.0/lib/python3.5/site-packages/matplotlib/cbook/__init__.py\", line 228, in __call__\n",
      "    return mtd(*args, **kwargs)\n",
      "  File \"/Users/louis/.pyenv/versions/anaconda3-4.2.0/lib/python3.5/site-packages/matplotlib/animation.py\", line 1026, in _start\n",
      "    self._init_draw()\n",
      "  File \"/Users/louis/.pyenv/versions/anaconda3-4.2.0/lib/python3.5/site-packages/matplotlib/animation.py\", line 1750, in _init_draw\n",
      "    self._draw_frame(next(self.new_frame_seq()))\n",
      "  File \"/Users/louis/.pyenv/versions/anaconda3-4.2.0/lib/python3.5/site-packages/matplotlib/animation.py\", line 1775, in _draw_frame\n",
      "    raise RuntimeError('The animation function must return a '\n",
      "RuntimeError: The animation function must return a sequence of Artist objects.\n",
      "MovieWriter imagemagick unavailable.\n"
     ]
    },
    {
     "name": "stdout",
     "output_type": "stream",
     "text": [
      "0\n"
     ]
    },
    {
     "ename": "ValueError",
     "evalue": "outfile must be *.htm or *.html",
     "output_type": "error",
     "traceback": [
      "\u001b[0;31m---------------------------------------------------------------------------\u001b[0m",
      "\u001b[0;31mValueError\u001b[0m                                Traceback (most recent call last)",
      "\u001b[0;32m<ipython-input-4-79c4f76bfde1>\u001b[0m in \u001b[0;36m<module>\u001b[0;34m()\u001b[0m\n\u001b[1;32m     70\u001b[0m \u001b[0mfig\u001b[0m \u001b[0;34m=\u001b[0m \u001b[0mplt\u001b[0m\u001b[0;34m.\u001b[0m\u001b[0mfigure\u001b[0m\u001b[0;34m(\u001b[0m\u001b[0mfigsize\u001b[0m\u001b[0;34m=\u001b[0m\u001b[0;34m(\u001b[0m\u001b[0;36m8\u001b[0m\u001b[0;34m,\u001b[0m\u001b[0;36m7\u001b[0m\u001b[0;34m)\u001b[0m\u001b[0;34m)\u001b[0m\u001b[0;34m\u001b[0m\u001b[0m\n\u001b[1;32m     71\u001b[0m \u001b[0manim\u001b[0m \u001b[0;34m=\u001b[0m \u001b[0mani\u001b[0m\u001b[0;34m.\u001b[0m\u001b[0mFuncAnimation\u001b[0m\u001b[0;34m(\u001b[0m\u001b[0mfig\u001b[0m\u001b[0;34m,\u001b[0m \u001b[0manimate\u001b[0m\u001b[0;34m,\u001b[0m \u001b[0mframes\u001b[0m\u001b[0;34m=\u001b[0m\u001b[0mint\u001b[0m\u001b[0;34m(\u001b[0m\u001b[0mnum_frame\u001b[0m\u001b[0;34m)\u001b[0m\u001b[0;34m,\u001b[0m \u001b[0mblit\u001b[0m\u001b[0;34m=\u001b[0m\u001b[0;32mTrue\u001b[0m\u001b[0;34m)\u001b[0m\u001b[0;34m\u001b[0m\u001b[0m\n\u001b[0;32m---> 72\u001b[0;31m \u001b[0manim\u001b[0m\u001b[0;34m.\u001b[0m\u001b[0msave\u001b[0m\u001b[0;34m(\u001b[0m\u001b[0;34m'metropolis_norm.gif'\u001b[0m\u001b[0;34m,\u001b[0m \u001b[0mwriter\u001b[0m\u001b[0;34m=\u001b[0m\u001b[0;34m'imagemagick'\u001b[0m\u001b[0;34m,\u001b[0m \u001b[0mfps\u001b[0m\u001b[0;34m=\u001b[0m\u001b[0;36m3\u001b[0m\u001b[0;34m,\u001b[0m \u001b[0mdpi\u001b[0m\u001b[0;34m=\u001b[0m\u001b[0;36m96\u001b[0m\u001b[0;34m)\u001b[0m\u001b[0;34m\u001b[0m\u001b[0m\n\u001b[0m\u001b[1;32m     73\u001b[0m \u001b[0;34m\u001b[0m\u001b[0m\n\u001b[1;32m     74\u001b[0m \u001b[0;31m# 採択(Accept)率の計算\u001b[0m\u001b[0;34m\u001b[0m\u001b[0;34m\u001b[0m\u001b[0m\n",
      "\u001b[0;32m~/.pyenv/versions/anaconda3-4.2.0/lib/python3.5/site-packages/matplotlib/animation.py\u001b[0m in \u001b[0;36msave\u001b[0;34m(self, filename, writer, fps, dpi, codec, bitrate, extra_args, metadata, extra_anim, savefig_kwargs)\u001b[0m\n\u001b[1;32m   1190\u001b[0m                           \"animation.\")\n\u001b[1;32m   1191\u001b[0m                 \u001b[0mrcParams\u001b[0m\u001b[0;34m[\u001b[0m\u001b[0;34m'savefig.bbox'\u001b[0m\u001b[0;34m]\u001b[0m \u001b[0;34m=\u001b[0m \u001b[0;32mNone\u001b[0m\u001b[0;34m\u001b[0m\u001b[0m\n\u001b[0;32m-> 1192\u001b[0;31m             \u001b[0;32mwith\u001b[0m \u001b[0mwriter\u001b[0m\u001b[0;34m.\u001b[0m\u001b[0msaving\u001b[0m\u001b[0;34m(\u001b[0m\u001b[0mself\u001b[0m\u001b[0;34m.\u001b[0m\u001b[0m_fig\u001b[0m\u001b[0;34m,\u001b[0m \u001b[0mfilename\u001b[0m\u001b[0;34m,\u001b[0m \u001b[0mdpi\u001b[0m\u001b[0;34m)\u001b[0m\u001b[0;34m:\u001b[0m\u001b[0;34m\u001b[0m\u001b[0m\n\u001b[0m\u001b[1;32m   1193\u001b[0m                 \u001b[0;32mfor\u001b[0m \u001b[0manim\u001b[0m \u001b[0;32min\u001b[0m \u001b[0mall_anim\u001b[0m\u001b[0;34m:\u001b[0m\u001b[0;34m\u001b[0m\u001b[0m\n\u001b[1;32m   1194\u001b[0m                     \u001b[0;31m# Clear the initial frame\u001b[0m\u001b[0;34m\u001b[0m\u001b[0;34m\u001b[0m\u001b[0m\n",
      "\u001b[0;32m~/.pyenv/versions/anaconda3-4.2.0/lib/python3.5/contextlib.py\u001b[0m in \u001b[0;36m__enter__\u001b[0;34m(self)\u001b[0m\n\u001b[1;32m     57\u001b[0m     \u001b[0;32mdef\u001b[0m \u001b[0m__enter__\u001b[0m\u001b[0;34m(\u001b[0m\u001b[0mself\u001b[0m\u001b[0;34m)\u001b[0m\u001b[0;34m:\u001b[0m\u001b[0;34m\u001b[0m\u001b[0m\n\u001b[1;32m     58\u001b[0m         \u001b[0;32mtry\u001b[0m\u001b[0;34m:\u001b[0m\u001b[0;34m\u001b[0m\u001b[0m\n\u001b[0;32m---> 59\u001b[0;31m             \u001b[0;32mreturn\u001b[0m \u001b[0mnext\u001b[0m\u001b[0;34m(\u001b[0m\u001b[0mself\u001b[0m\u001b[0;34m.\u001b[0m\u001b[0mgen\u001b[0m\u001b[0;34m)\u001b[0m\u001b[0;34m\u001b[0m\u001b[0m\n\u001b[0m\u001b[1;32m     60\u001b[0m         \u001b[0;32mexcept\u001b[0m \u001b[0mStopIteration\u001b[0m\u001b[0;34m:\u001b[0m\u001b[0;34m\u001b[0m\u001b[0m\n\u001b[1;32m     61\u001b[0m             \u001b[0;32mraise\u001b[0m \u001b[0mRuntimeError\u001b[0m\u001b[0;34m(\u001b[0m\u001b[0;34m\"generator didn't yield\"\u001b[0m\u001b[0;34m)\u001b[0m \u001b[0;32mfrom\u001b[0m \u001b[0;32mNone\u001b[0m\u001b[0;34m\u001b[0m\u001b[0m\n",
      "\u001b[0;32m~/.pyenv/versions/anaconda3-4.2.0/lib/python3.5/site-packages/matplotlib/animation.py\u001b[0m in \u001b[0;36msaving\u001b[0;34m(self, fig, outfile, dpi, *args, **kwargs)\u001b[0m\n\u001b[1;32m    235\u001b[0m         '''\n\u001b[1;32m    236\u001b[0m         \u001b[0;31m# This particular sequence is what contextlib.contextmanager wants\u001b[0m\u001b[0;34m\u001b[0m\u001b[0;34m\u001b[0m\u001b[0m\n\u001b[0;32m--> 237\u001b[0;31m         \u001b[0mself\u001b[0m\u001b[0;34m.\u001b[0m\u001b[0msetup\u001b[0m\u001b[0;34m(\u001b[0m\u001b[0mfig\u001b[0m\u001b[0;34m,\u001b[0m \u001b[0moutfile\u001b[0m\u001b[0;34m,\u001b[0m \u001b[0mdpi\u001b[0m\u001b[0;34m,\u001b[0m \u001b[0;34m*\u001b[0m\u001b[0margs\u001b[0m\u001b[0;34m,\u001b[0m \u001b[0;34m**\u001b[0m\u001b[0mkwargs\u001b[0m\u001b[0;34m)\u001b[0m\u001b[0;34m\u001b[0m\u001b[0m\n\u001b[0m\u001b[1;32m    238\u001b[0m         \u001b[0;32mtry\u001b[0m\u001b[0;34m:\u001b[0m\u001b[0;34m\u001b[0m\u001b[0m\n\u001b[1;32m    239\u001b[0m             \u001b[0;32myield\u001b[0m \u001b[0mself\u001b[0m\u001b[0;34m\u001b[0m\u001b[0m\n",
      "\u001b[0;32m~/.pyenv/versions/anaconda3-4.2.0/lib/python3.5/site-packages/matplotlib/animation.py\u001b[0m in \u001b[0;36msetup\u001b[0;34m(self, fig, outfile, dpi, frame_dir)\u001b[0m\n\u001b[1;32m    885\u001b[0m         \u001b[0mroot\u001b[0m\u001b[0;34m,\u001b[0m \u001b[0mext\u001b[0m \u001b[0;34m=\u001b[0m \u001b[0mos\u001b[0m\u001b[0;34m.\u001b[0m\u001b[0mpath\u001b[0m\u001b[0;34m.\u001b[0m\u001b[0msplitext\u001b[0m\u001b[0;34m(\u001b[0m\u001b[0moutfile\u001b[0m\u001b[0;34m)\u001b[0m\u001b[0;34m\u001b[0m\u001b[0m\n\u001b[1;32m    886\u001b[0m         \u001b[0;32mif\u001b[0m \u001b[0mext\u001b[0m \u001b[0;32mnot\u001b[0m \u001b[0;32min\u001b[0m \u001b[0;34m[\u001b[0m\u001b[0;34m'.html'\u001b[0m\u001b[0;34m,\u001b[0m \u001b[0;34m'.htm'\u001b[0m\u001b[0;34m]\u001b[0m\u001b[0;34m:\u001b[0m\u001b[0;34m\u001b[0m\u001b[0m\n\u001b[0;32m--> 887\u001b[0;31m             \u001b[0;32mraise\u001b[0m \u001b[0mValueError\u001b[0m\u001b[0;34m(\u001b[0m\u001b[0;34m\"outfile must be *.htm or *.html\"\u001b[0m\u001b[0;34m)\u001b[0m\u001b[0;34m\u001b[0m\u001b[0m\n\u001b[0m\u001b[1;32m    888\u001b[0m \u001b[0;34m\u001b[0m\u001b[0m\n\u001b[1;32m    889\u001b[0m         \u001b[0;32mif\u001b[0m \u001b[0;32mnot\u001b[0m \u001b[0mself\u001b[0m\u001b[0;34m.\u001b[0m\u001b[0membed_frames\u001b[0m\u001b[0;34m:\u001b[0m\u001b[0;34m\u001b[0m\u001b[0m\n",
      "\u001b[0;31mValueError\u001b[0m: outfile must be *.htm or *.html"
     ]
    },
    {
     "data": {
      "image/png": "[encoded data removed]",
      "text/plain": [
       "<Figure size 576x504 with 1 Axes>"
      ]
     },
     "metadata": {},
     "output_type": "display_data"
    }
   ],
   "source": [
    "# 初期位置の設定とサンプリング結果リストへの格納\n",
    "current = (3, 3)\n",
    "sample.append(current)\n",
    "\n",
    "# アニメーションの各フレームを描画する関数\n",
    "def animate(nframe):\n",
    "    global current, acc_rej\n",
    "    print (nframe)      # 進捗状況の表示\n",
    "\n",
    "    # 提案分布による次のステップの選択\n",
    "    # dist_type: \"norm\":正規分布 / \"unif\"：一様分布\n",
    "    if dist_type == \"norm\":\n",
    "        next = (current[0] + rd.normal(0, delta), current[1] + rd.normal(0, delta))\n",
    "    else:\n",
    "        next = (current[0] + rd.uniform(-delta, delta), current[1] + rd.uniform(-delta, delta))\n",
    "    # 各位置における目標分布の確率密度の比・・・[[1]]\n",
    "    P_prev = P(current[0], current[1], b)   # 現在位置における目標分布の確率密度(に比例した数値)\n",
    "    P_next = P(next[0], next[1], b)         # 次の候補位置における目標分布の確率密度(に比例した数値)\n",
    "\n",
    "    # 上記の２つの値の比をとる\n",
    "    r = P_next/P_prev\n",
    "\n",
    "    # グラフの左上にAccept / Reject を表示する枠を表示\n",
    "    ax = fig.add_subplot(111)\n",
    "    rect = plt.Rectangle((-3.8,3.2), 1.1, .5,fc=\"#ffffff\", zorder=nframe)\n",
    "    ax.add_patch(rect)\n",
    "\n",
    "    # 現在位置から次の候補位置への移動パスを表す点線を引く\n",
    "    plt.plot([current[0], next[0]], [current[1], next[1]], \"k--\", lw=.3, color=\"gray\") \n",
    "\n",
    "    if r > 1 or r > rd.uniform(0, 1):     # ・・・[[2]]\n",
    "        # 0-1の一様乱数がrより大きい時は状態を更新する。 \n",
    "        current = copy.copy(next)\n",
    "        # サンプリングした値をリストに詰める。\n",
    "        sample.append(current) \n",
    "\n",
    "        if nframe < num_frame*.2:\n",
    "            # イテレーション回数の最初の20%はBurn-in期間と考える(プロットの色を薄くして示す）\n",
    "            alpha = 0.2\n",
    "        else:\n",
    "            # 通常期間は点の濃さを戻す\n",
    "            alpha = 0.8\n",
    "            # acceptを記録\n",
    "            acc_rej.append(1)\n",
    "\n",
    "        # 採択(Accept)なので、点をプロットする。\n",
    "        plt.scatter(current[0], current[1], alpha=alpha)\n",
    "        plt.text(-3.7, 3.35, \"Accept\", zorder=nframe, fontdict={'color':\"b\"})\n",
    "\n",
    "    else:  \n",
    "        # 0-1の一様乱数がrより小さい時は棄却する。 \n",
    "        # 棄却した時は x印をプロットする。\n",
    "        plt.scatter(next[0], next[1], alpha=0.5, color=\"r\", marker=\"x\")\n",
    "        plt.text(-3.7, 3.35, \"Reject\", zorder=nframe, fontdict={'color':\"r\"})\n",
    "\n",
    "        if nframe <= num_frame*.2:\n",
    "            # rejectを記録\n",
    "            acc_rej.append(0)\n",
    "\n",
    "    if nframe >= num_frame*.2:\n",
    "        plt.title(\"cnt:{}\".format(nframe+1))\n",
    "    else:\n",
    "        plt.title(\"cnt:{} [burn-in]\".format(nframe+1))\n",
    "\n",
    "    # グラフの描画範囲の設定\n",
    "    plt.xlim(-4, 4)\n",
    "    plt.ylim(-4, 4)\n",
    "\n",
    "\n",
    "fig = plt.figure(figsize=(8,7))\n",
    "anim = ani.FuncAnimation(fig, animate, frames=int(num_frame), blit=True)\n",
    "anim.save('metropolis_norm.gif', writer='imagemagick', fps=3, dpi=96)\n",
    "\n",
    "# 採択(Accept)率の計算\n",
    "print (\"Accept ratio:{0:.5f}\".format(np.mean(acc_rej)))"
   ]
  },
  {
   "cell_type": "code",
   "execution_count": null,
   "metadata": {},
   "outputs": [],
   "source": []
  }
 ],
 "metadata": {
  "kernelspec": {
   "display_name": "Python [default]",
   "language": "python",
   "name": "python3"
  },
  "language_info": {
   "codemirror_mode": {
    "name": "ipython",
    "version": 3
   },
   "file_extension": ".py",
   "mimetype": "text/x-python",
   "name": "python",
   "nbconvert_exporter": "python",
   "pygments_lexer": "ipython3",
   "version": "3.5.4"
  }
 },
 "nbformat": 4,
 "nbformat_minor": 2
}
